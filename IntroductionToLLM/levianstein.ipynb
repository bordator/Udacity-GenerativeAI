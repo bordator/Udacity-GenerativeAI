{
 "cells": [
  {
   "cell_type": "code",
   "execution_count": 4,
   "metadata": {},
   "outputs": [
    {
     "name": "stdout",
     "output_type": "stream",
     "text": [
      "pagina livro\n",
      "cidade pais\n",
      "paginacao encadernacao\n",
      "0.0\n",
      "1.0\n",
      "0.0\n",
      "[1. 0. 1.]\n"
     ]
    }
   ],
   "source": [
    "import math\n",
    "import numpy as np\n",
    "\n",
    "D = {'pagina':'livro', 'cidade':'pais', 'paginacao':'encadernacao'}\n",
    "\n",
    "\n",
    "def lev(u, v, i, j):\n",
    "    if min(i, j) == 0:\n",
    "        return max(i, j)\n",
    "    else:\n",
    "        r1 = lev(u, v, i-1, j)\n",
    "        r2 = lev(u, v, i, j-1)\n",
    "        r3 = lev(u, v, i-1, j-1) + (0 if u[i] == v[j] else 1)\n",
    "        return min(r1, r2, r3)\n",
    "\n",
    "def comp(u, v):\n",
    "    \"\"\"\n",
    "    The levenshtein distante between u and v\n",
    "    \"\"\"\n",
    "    return lev(u, v, len(u)-1, len(v)-1)\n",
    "\n",
    "def AttentionWeights(q, D):\n",
    "    wcomp = np.zeros(len(D))\n",
    "    for i, (k, v) in enumerate(D.items()):\n",
    "        print(k,v)\n",
    "        wcomp[i] = comp(q, k)\n",
    "    for i in range(len(wcomp)):\n",
    "        print(wcomp[i]) \n",
    "    return 1 - wcomp/np.sum(wcomp)\n",
    "print(AttentionWeights(\"pagina\", D))"
   ]
  },
  {
   "cell_type": "code",
   "execution_count": null,
   "metadata": {},
   "outputs": [],
   "source": []
  }
 ],
 "metadata": {
  "kernelspec": {
   "display_name": "udagen",
   "language": "python",
   "name": "python3"
  },
  "language_info": {
   "codemirror_mode": {
    "name": "ipython",
    "version": 3
   },
   "file_extension": ".py",
   "mimetype": "text/x-python",
   "name": "python",
   "nbconvert_exporter": "python",
   "pygments_lexer": "ipython3",
   "version": "3.11.9"
  }
 },
 "nbformat": 4,
 "nbformat_minor": 2
}
