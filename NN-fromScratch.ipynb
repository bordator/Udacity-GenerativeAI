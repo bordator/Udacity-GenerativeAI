{
 "cells": [
  {
   "cell_type": "markdown",
   "id": "0ba99973-c6ab-46c8-9524-c883e1c8c07c",
   "metadata": {},
   "source": [
    "In this example i build a complete Neural Network from scratch\n",
    "We need a loos function (CrossEntropy - Classes or MSQE-Mean Squared Error for Regression)\n",
    "We need to build an input and an output layer\n",
    "(Perceptron Network)\n",
    "An activation function like sigmoid or ReLu/logsoftmax"
   ]
  },
  {
   "cell_type": "code",
   "execution_count": 2,
   "id": "897d54b2-5910-453c-bb63-bf340e57ffd4",
   "metadata": {},
   "outputs": [],
   "source": [
    "import math\n",
    "import torch"
   ]
  },
  {
   "cell_type": "code",
   "execution_count": 3,
   "id": "e0ba9fa8-d1a8-42f3-8a54-4795f8f0b425",
   "metadata": {},
   "outputs": [],
   "source": [
    "#Create weights/bias and initialize them with \n",
    "#Xavier initialisation http://proceedings.mlr.press/v9/glorot10a/glorot10a.pdf\n",
    "weights : torch.Tensor = torch.rand(784, 10) / math.sqrt(784)\n",
    "weights.requires_grad_()\n",
    "bias = torch.zeros(10, requires_grad=True)"
   ]
  },
  {
   "cell_type": "code",
   "execution_count": 4,
   "id": "2a53e567-e9df-4367-a76d-44455eaa6130",
   "metadata": {},
   "outputs": [],
   "source": [
    "#definition der Bewertungsfunktion\n",
    "def log_softmax(x : torch.Tensor) -> torch.Tensor:\n",
    "    return x - x.exp().sum(-1).log().unsqueeze(-1)"
   ]
  },
  {
   "cell_type": "code",
   "execution_count": null,
   "id": "9159ae81-e36b-4634-8b06-6f7b6d96e482",
   "metadata": {},
   "outputs": [],
   "source": []
  },
  {
   "cell_type": "code",
   "execution_count": null,
   "id": "b08db653-1e8a-42c1-9372-626f1f8b7c16",
   "metadata": {},
   "outputs": [],
   "source": []
  },
  {
   "cell_type": "code",
   "execution_count": null,
   "id": "5ba62f96-00a0-4662-9529-dc63b22c0679",
   "metadata": {},
   "outputs": [],
   "source": []
  },
  {
   "cell_type": "code",
   "execution_count": null,
   "id": "a1018266-1b88-46da-8b89-b0ab93b343a0",
   "metadata": {},
   "outputs": [],
   "source": []
  },
  {
   "cell_type": "code",
   "execution_count": null,
   "id": "bc54ea72-6deb-4a0d-a8fa-dc41ff17bff7",
   "metadata": {},
   "outputs": [],
   "source": []
  },
  {
   "cell_type": "code",
   "execution_count": null,
   "id": "1c792d8f-f140-4ad7-aa26-f4e5373ecc57",
   "metadata": {},
   "outputs": [],
   "source": []
  },
  {
   "cell_type": "code",
   "execution_count": null,
   "id": "3160eff7-1aa7-45ba-a465-be25cc66fbe1",
   "metadata": {},
   "outputs": [],
   "source": []
  }
 ],
 "metadata": {
  "kernelspec": {
   "display_name": "Python 3 (ipykernel)",
   "language": "python",
   "name": "python3"
  },
  "language_info": {
   "codemirror_mode": {
    "name": "ipython",
    "version": 3
   },
   "file_extension": ".py",
   "mimetype": "text/x-python",
   "name": "python",
   "nbconvert_exporter": "python",
   "pygments_lexer": "ipython3",
   "version": "3.11.9"
  }
 },
 "nbformat": 4,
 "nbformat_minor": 5
}
