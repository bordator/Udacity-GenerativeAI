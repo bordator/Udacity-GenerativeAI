{
 "cells": [
  {
   "cell_type": "code",
   "execution_count": 1,
   "id": "f571f0d7-286b-4de9-be20-3abfbd472967",
   "metadata": {},
   "outputs": [],
   "source": [
    "import torch"
   ]
  },
  {
   "cell_type": "code",
   "execution_count": 2,
   "id": "d497c772-a568-41df-9bee-4fb4532b2cac",
   "metadata": {},
   "outputs": [],
   "source": [
    "images = torch.rand((4,28,28))"
   ]
  },
  {
   "cell_type": "code",
   "execution_count": 3,
   "id": "cf32ea09-e112-4e33-b4b3-c1ed5b93b2b6",
   "metadata": {},
   "outputs": [],
   "source": [
    "image2 = images[1]"
   ]
  },
  {
   "cell_type": "code",
   "execution_count": 6,
   "id": "9bd19de1-29ad-4d93-bfe2-dd4610329b82",
   "metadata": {},
   "outputs": [
    {
     "data": {
      "text/plain": [
       "tensor([[6.3242e-01, 4.9785e-01, 5.1463e-01, 9.5707e-01, 9.9549e-01, 5.2598e-01,\n",
       "         5.5529e-01, 2.9398e-01, 9.4816e-01, 1.6994e-01, 7.7296e-01, 2.6621e-01,\n",
       "         1.9723e-01, 9.4812e-01, 8.2776e-01, 2.6724e-01, 6.8119e-01, 6.2171e-01,\n",
       "         3.7713e-01, 9.1965e-01, 1.1100e-01, 2.8423e-01, 5.9059e-01, 9.6487e-01,\n",
       "         9.3163e-01, 3.0618e-01, 6.0139e-01, 3.2329e-01],\n",
       "        [9.4031e-01, 6.2132e-01, 6.2715e-01, 7.6955e-01, 3.2803e-01, 8.0558e-02,\n",
       "         3.4365e-01, 1.7661e-02, 5.5515e-01, 7.3471e-01, 5.2493e-01, 9.5084e-01,\n",
       "         5.0383e-01, 1.7304e-01, 1.0103e-02, 5.0609e-01, 9.6577e-01, 8.8671e-01,\n",
       "         3.3215e-01, 8.0787e-01, 2.0654e-01, 2.7700e-01, 3.1350e-01, 4.0459e-01,\n",
       "         3.2208e-01, 6.1224e-01, 8.9053e-01, 4.6058e-01],\n",
       "        [3.3499e-01, 2.4981e-01, 2.9477e-01, 1.4624e-01, 3.5586e-01, 8.0843e-01,\n",
       "         7.9641e-01, 7.8819e-01, 4.1162e-01, 5.0455e-01, 3.0440e-01, 8.9304e-01,\n",
       "         5.5627e-01, 8.2300e-01, 6.6795e-01, 4.1240e-01, 7.6710e-01, 2.7028e-01,\n",
       "         5.3108e-01, 2.9373e-01, 7.2877e-01, 5.1603e-01, 8.2129e-01, 7.4013e-01,\n",
       "         9.5282e-01, 9.6780e-01, 6.1092e-01, 9.6371e-01],\n",
       "        [7.3162e-01, 3.8045e-01, 5.9240e-01, 2.7066e-01, 4.1487e-01, 4.4042e-01,\n",
       "         6.0183e-01, 4.5148e-01, 6.4369e-01, 7.5288e-01, 8.7397e-01, 7.4663e-01,\n",
       "         2.2475e-01, 4.2345e-01, 1.9826e-01, 3.2681e-01, 1.3836e-01, 9.8991e-01,\n",
       "         4.9920e-02, 1.4801e-01, 4.3124e-01, 6.5808e-01, 8.2511e-02, 4.8686e-01,\n",
       "         3.2965e-01, 7.8612e-01, 5.7852e-01, 3.8423e-01],\n",
       "        [5.1395e-01, 2.6436e-01, 3.2650e-01, 4.3233e-01, 3.4208e-01, 8.3990e-01,\n",
       "         3.9015e-01, 1.4772e-01, 2.7924e-01, 6.7471e-01, 1.8598e-01, 9.4585e-01,\n",
       "         8.4598e-01, 1.6836e-01, 4.5329e-01, 2.7588e-01, 2.3205e-01, 3.9523e-01,\n",
       "         7.8885e-01, 4.9590e-01, 6.1227e-03, 4.9086e-01, 5.7289e-01, 2.8827e-01,\n",
       "         9.6855e-01, 6.0276e-01, 7.3623e-01, 8.8105e-01],\n",
       "        [1.6743e-01, 1.1897e-01, 6.9413e-01, 8.8372e-01, 1.5931e-01, 9.5017e-01,\n",
       "         4.8452e-01, 3.7771e-01, 1.0149e-01, 1.7722e-01, 7.6275e-01, 5.0469e-01,\n",
       "         5.1701e-01, 5.4026e-01, 5.9191e-01, 5.8902e-01, 7.7386e-02, 9.8683e-01,\n",
       "         5.5651e-01, 8.4050e-01, 1.7316e-01, 9.2287e-01, 4.9408e-01, 7.0972e-01,\n",
       "         6.8289e-01, 8.4764e-01, 8.7516e-01, 1.8801e-01],\n",
       "        [4.8399e-01, 7.0469e-01, 5.6232e-01, 4.2607e-01, 9.1664e-01, 2.3404e-02,\n",
       "         1.7706e-01, 6.9704e-01, 8.0645e-02, 4.5505e-01, 8.2528e-01, 6.4376e-01,\n",
       "         5.1782e-01, 2.4171e-01, 2.5507e-01, 8.9718e-01, 8.2762e-01, 7.2995e-01,\n",
       "         7.2271e-03, 7.9177e-01, 5.1119e-02, 6.7404e-01, 1.9724e-01, 8.5087e-01,\n",
       "         2.3484e-01, 2.5318e-01, 5.1605e-01, 8.1110e-01],\n",
       "        [9.9216e-01, 1.5810e-01, 3.4600e-01, 9.2210e-01, 6.1066e-03, 2.5488e-01,\n",
       "         2.1955e-01, 8.4591e-01, 2.0168e-01, 4.3162e-01, 3.6285e-01, 8.6313e-01,\n",
       "         9.4499e-01, 4.9733e-01, 5.3278e-01, 8.5550e-01, 5.7120e-01, 5.2592e-01,\n",
       "         6.8092e-01, 8.3073e-01, 6.6959e-01, 3.2826e-01, 7.9418e-01, 5.7366e-01,\n",
       "         8.4579e-01, 9.3084e-01, 5.3316e-01, 4.2902e-01],\n",
       "        [2.6295e-02, 3.0209e-01, 5.5609e-02, 7.8523e-01, 2.3774e-01, 7.5659e-01,\n",
       "         3.3065e-01, 8.6581e-01, 9.8460e-01, 1.3929e-01, 4.8408e-01, 7.2797e-01,\n",
       "         4.3564e-01, 1.0940e-01, 3.7235e-01, 6.6084e-01, 5.0423e-01, 7.7815e-01,\n",
       "         7.7346e-01, 5.5689e-01, 1.6141e-01, 5.0370e-01, 9.6594e-01, 5.5274e-01,\n",
       "         5.6388e-01, 8.7982e-01, 1.6283e-01, 2.4732e-01],\n",
       "        [4.3216e-01, 4.9278e-01, 6.1312e-01, 8.4331e-01, 1.6999e-01, 4.9470e-02,\n",
       "         9.4420e-03, 3.3799e-03, 9.5146e-01, 7.3209e-01, 4.4454e-01, 8.6848e-01,\n",
       "         8.8566e-01, 3.3068e-01, 5.1609e-01, 4.8953e-01, 7.5567e-01, 7.6796e-02,\n",
       "         4.6819e-01, 1.9663e-01, 6.5690e-01, 4.9079e-01, 6.3336e-01, 7.0605e-01,\n",
       "         7.2629e-01, 2.2992e-01, 3.8829e-01, 6.2472e-02],\n",
       "        [1.1371e-01, 2.2485e-03, 1.7979e-01, 4.8122e-01, 6.6592e-01, 9.3377e-01,\n",
       "         5.2449e-01, 7.5193e-01, 6.4783e-01, 6.7538e-01, 2.4818e-02, 3.2956e-01,\n",
       "         2.3561e-01, 7.8411e-01, 2.2967e-01, 7.3594e-01, 1.7361e-01, 8.4859e-01,\n",
       "         3.3048e-01, 3.7469e-01, 8.7597e-03, 1.8838e-01, 8.1250e-02, 4.6850e-01,\n",
       "         4.9492e-01, 8.5947e-01, 4.5510e-01, 3.1513e-01],\n",
       "        [5.5874e-01, 6.9501e-01, 3.9545e-01, 6.4481e-01, 2.4201e-01, 5.2008e-01,\n",
       "         2.8233e-01, 3.3530e-02, 3.3221e-01, 1.6787e-01, 4.7034e-01, 8.3762e-01,\n",
       "         8.1938e-01, 1.7372e-01, 3.3342e-02, 4.4921e-01, 1.5433e-01, 5.7166e-01,\n",
       "         7.7498e-01, 3.1890e-01, 6.9353e-03, 3.2468e-01, 6.5703e-02, 2.2818e-01,\n",
       "         8.4286e-01, 5.1458e-01, 2.9083e-01, 7.9478e-02],\n",
       "        [5.5169e-01, 3.6569e-01, 8.3785e-01, 3.7674e-01, 5.7620e-04, 7.8051e-01,\n",
       "         1.3708e-01, 9.8495e-01, 6.4109e-01, 6.9238e-01, 7.9422e-01, 2.7139e-01,\n",
       "         3.7827e-01, 9.7446e-01, 4.1209e-01, 9.2546e-01, 3.6430e-01, 1.6280e-01,\n",
       "         3.2164e-03, 9.4187e-01, 5.3334e-01, 4.3181e-03, 7.1497e-01, 8.3893e-02,\n",
       "         8.6098e-01, 9.6480e-01, 6.7874e-01, 6.9125e-01],\n",
       "        [7.3948e-01, 6.0922e-01, 2.8881e-01, 7.7910e-01, 8.8049e-01, 8.5609e-01,\n",
       "         1.8755e-01, 6.3600e-01, 4.2554e-01, 2.5339e-01, 1.8478e-01, 9.4087e-01,\n",
       "         3.2874e-01, 6.4701e-02, 5.9738e-01, 6.3882e-01, 7.3481e-01, 9.5559e-01,\n",
       "         8.6747e-01, 1.1272e-01, 6.1137e-01, 4.6394e-02, 3.7205e-01, 8.7033e-01,\n",
       "         3.7652e-01, 1.6463e-01, 4.3449e-02, 8.8179e-02],\n",
       "        [5.7557e-02, 2.8827e-01, 2.1829e-01, 7.1470e-01, 6.4597e-01, 8.9055e-01,\n",
       "         4.9305e-01, 3.7704e-01, 5.1246e-01, 3.6126e-01, 4.5235e-01, 4.7810e-01,\n",
       "         3.7511e-02, 8.8633e-01, 3.0879e-01, 4.8468e-01, 6.3107e-01, 9.1301e-01,\n",
       "         3.6729e-01, 3.5167e-03, 9.5406e-01, 8.3198e-01, 5.0979e-01, 5.8023e-01,\n",
       "         2.1261e-01, 4.9220e-02, 8.6015e-01, 9.0711e-01],\n",
       "        [4.7310e-01, 5.9845e-01, 4.2332e-01, 3.3913e-01, 6.2982e-01, 3.7994e-02,\n",
       "         2.4684e-01, 3.2832e-01, 2.5391e-01, 8.9514e-01, 8.7982e-01, 3.0417e-01,\n",
       "         6.7587e-03, 1.5997e-01, 3.8355e-01, 1.9662e-01, 6.0373e-01, 4.6990e-01,\n",
       "         1.2652e-02, 6.9918e-01, 1.4102e-01, 1.1810e-01, 5.1644e-01, 2.2226e-01,\n",
       "         5.8520e-01, 5.6949e-01, 7.6749e-01, 1.4818e-01],\n",
       "        [3.2632e-01, 4.2619e-01, 9.3245e-01, 4.1127e-01, 8.2925e-01, 1.1707e-01,\n",
       "         4.4472e-01, 1.4000e-01, 1.3882e-01, 4.5124e-01, 1.8453e-01, 5.1894e-01,\n",
       "         7.7190e-01, 4.1003e-01, 5.0177e-01, 6.8117e-01, 9.4838e-01, 8.9748e-01,\n",
       "         8.1441e-01, 1.8544e-02, 2.3235e-01, 8.8634e-01, 7.9536e-01, 2.9525e-01,\n",
       "         9.8749e-01, 6.1548e-01, 4.7318e-01, 3.2722e-01],\n",
       "        [5.8898e-01, 4.1827e-01, 4.4732e-01, 5.4673e-01, 4.1971e-01, 4.5881e-01,\n",
       "         9.9691e-01, 1.3713e-01, 3.3403e-01, 6.9371e-01, 1.1840e-01, 7.6024e-01,\n",
       "         8.1017e-01, 6.6160e-01, 9.0664e-01, 8.6240e-01, 6.6526e-01, 3.1973e-01,\n",
       "         4.3349e-01, 2.7532e-01, 5.1424e-01, 6.7875e-01, 3.7548e-01, 7.3693e-01,\n",
       "         3.3964e-01, 6.8611e-01, 2.1840e-01, 6.6025e-01],\n",
       "        [8.1671e-01, 5.4241e-01, 3.8825e-01, 6.4063e-01, 4.6842e-01, 3.6509e-01,\n",
       "         7.7174e-01, 1.6699e-01, 9.3260e-01, 5.9222e-01, 9.7580e-01, 3.2573e-01,\n",
       "         3.5906e-01, 4.4936e-01, 7.8884e-01, 8.7084e-01, 4.9729e-01, 5.1332e-01,\n",
       "         1.5192e-01, 1.9915e-01, 4.3828e-01, 4.3079e-01, 8.1228e-01, 7.1569e-01,\n",
       "         7.7116e-01, 4.9518e-01, 4.8762e-01, 9.9137e-02],\n",
       "        [4.7686e-01, 2.5536e-02, 5.7432e-02, 4.7756e-02, 3.9661e-01, 9.8518e-01,\n",
       "         6.6010e-01, 3.4925e-01, 1.1620e-01, 3.7689e-01, 4.3638e-01, 6.0544e-01,\n",
       "         1.1083e-01, 1.4691e-01, 5.7483e-01, 2.8225e-01, 3.7602e-01, 8.8119e-01,\n",
       "         6.9953e-01, 8.9317e-01, 9.4957e-02, 4.3395e-01, 9.8050e-01, 5.6809e-02,\n",
       "         8.6342e-01, 4.4207e-01, 9.7094e-01, 7.9905e-01],\n",
       "        [4.9961e-01, 4.0206e-01, 8.7039e-01, 1.7920e-01, 4.0930e-01, 9.5294e-01,\n",
       "         7.4136e-01, 4.9879e-01, 3.8423e-01, 1.5060e-01, 4.3533e-02, 6.3497e-01,\n",
       "         9.6753e-02, 7.5693e-01, 3.3585e-01, 2.2260e-01, 3.3968e-01, 5.1296e-01,\n",
       "         9.2700e-01, 9.4698e-01, 7.9022e-02, 5.8518e-02, 5.8984e-01, 2.3423e-01,\n",
       "         4.5212e-01, 3.3636e-01, 5.2990e-01, 7.0939e-01],\n",
       "        [7.9257e-01, 9.9566e-01, 6.8064e-01, 6.1522e-02, 2.1397e-01, 7.7534e-01,\n",
       "         9.5085e-01, 2.9422e-01, 9.0752e-01, 1.8022e-01, 1.9283e-01, 7.5430e-01,\n",
       "         2.0799e-02, 6.2547e-01, 2.3549e-01, 7.7191e-01, 3.9476e-01, 7.3509e-01,\n",
       "         5.7832e-01, 6.6574e-01, 3.4459e-01, 5.7326e-01, 8.5948e-01, 4.5481e-01,\n",
       "         6.2071e-01, 4.7862e-01, 8.5922e-02, 8.9579e-01],\n",
       "        [2.2344e-01, 2.6914e-01, 4.7565e-01, 4.3651e-01, 1.0130e-01, 5.9045e-02,\n",
       "         9.4375e-01, 1.6399e-01, 8.6653e-03, 5.8319e-01, 7.6784e-01, 9.8551e-02,\n",
       "         4.1639e-01, 4.9080e-01, 2.0175e-01, 6.7840e-02, 5.1692e-01, 2.4537e-02,\n",
       "         1.4294e-01, 4.1269e-01, 4.2859e-01, 5.7366e-01, 9.6524e-01, 8.7908e-01,\n",
       "         9.2714e-01, 5.2977e-01, 5.7169e-01, 8.1060e-01],\n",
       "        [9.6731e-01, 1.9310e-01, 8.6052e-02, 1.3144e-01, 2.8121e-01, 1.2635e-01,\n",
       "         7.4019e-03, 7.3655e-01, 1.7414e-01, 7.8513e-01, 5.4563e-03, 3.5839e-01,\n",
       "         7.1783e-01, 2.1176e-01, 4.8825e-01, 3.7684e-01, 4.4062e-02, 2.8890e-01,\n",
       "         3.7611e-01, 3.5015e-01, 1.2997e-01, 8.0387e-01, 7.1303e-02, 9.1062e-01,\n",
       "         4.0346e-01, 8.7742e-01, 7.6239e-02, 5.9916e-01],\n",
       "        [2.7818e-01, 8.2569e-01, 5.2460e-01, 1.5969e-01, 7.1746e-01, 3.5340e-01,\n",
       "         5.7863e-01, 2.3516e-01, 1.3953e-01, 8.9433e-01, 4.9121e-01, 7.1085e-01,\n",
       "         8.8602e-01, 4.1784e-01, 7.8126e-01, 4.4792e-01, 3.5373e-02, 1.0672e-01,\n",
       "         7.2513e-01, 4.6960e-01, 5.8574e-01, 3.7791e-01, 6.9057e-01, 9.9935e-01,\n",
       "         2.7539e-01, 8.2579e-03, 4.7787e-01, 2.6260e-01],\n",
       "        [2.4007e-01, 1.1019e-01, 9.0935e-01, 9.6867e-01, 7.8664e-01, 8.5872e-01,\n",
       "         5.9528e-01, 7.2760e-01, 3.3948e-02, 7.1482e-02, 2.2361e-01, 6.7307e-01,\n",
       "         4.7640e-01, 9.0489e-02, 6.2658e-02, 5.4285e-01, 4.7325e-01, 6.3714e-01,\n",
       "         7.7328e-01, 1.0773e-01, 1.9646e-01, 6.6662e-01, 6.0764e-01, 5.4992e-01,\n",
       "         5.8040e-01, 7.2541e-01, 1.1883e-01, 2.5334e-02],\n",
       "        [4.3732e-01, 9.9855e-01, 7.0169e-01, 4.6235e-01, 7.9880e-01, 5.2636e-02,\n",
       "         7.8416e-01, 5.2571e-01, 7.4554e-01, 8.1361e-01, 5.6046e-02, 3.4881e-01,\n",
       "         4.9265e-01, 7.5101e-01, 8.1380e-02, 5.8393e-01, 9.5514e-01, 9.7670e-01,\n",
       "         5.2181e-01, 8.3002e-01, 9.8559e-01, 2.1945e-01, 7.6281e-01, 9.1650e-02,\n",
       "         7.8922e-01, 7.7440e-01, 8.1093e-02, 6.2449e-01],\n",
       "        [3.9728e-02, 2.9564e-01, 6.5222e-01, 5.6805e-01, 8.4554e-01, 7.1869e-01,\n",
       "         7.3317e-01, 7.2025e-01, 1.6370e-01, 3.0546e-01, 8.1011e-01, 6.7260e-01,\n",
       "         2.5315e-02, 4.1990e-01, 4.6999e-01, 7.0726e-01, 7.9096e-01, 6.1397e-01,\n",
       "         7.3387e-02, 1.4135e-01, 1.5771e-01, 6.5535e-01, 3.0366e-01, 8.7485e-01,\n",
       "         2.0667e-01, 5.7188e-01, 3.2711e-01, 3.6621e-01]])"
      ]
     },
     "execution_count": 6,
     "metadata": {},
     "output_type": "execute_result"
    }
   ],
   "source": [
    "image2"
   ]
  },
  {
   "cell_type": "code",
   "execution_count": 7,
   "id": "5b77734b-ae7a-4c59-8918-7dbbc2ead622",
   "metadata": {},
   "outputs": [
    {
     "data": {
      "text/plain": [
       "torch.Tensor"
      ]
     },
     "execution_count": 7,
     "metadata": {},
     "output_type": "execute_result"
    }
   ],
   "source": [
    "type(image2)"
   ]
  },
  {
   "cell_type": "code",
   "execution_count": 5,
   "id": "b9da9f00-6349-425d-877a-69dd85c5ae11",
   "metadata": {},
   "outputs": [
    {
     "data": {
      "image/png": "[encoded data removed]",
      "text/plain": [
       "<Figure size 640x480 with 1 Axes>"
      ]
     },
     "metadata": {},
     "output_type": "display_data"
    }
   ],
   "source": [
    "import matplotlib.pyplot as plt\n",
    "plt.imshow(image2, cmap=\"grey\")\n",
    "#plt.axis('off')\n",
    "plt.show()"
   ]
  },
  {
   "cell_type": "code",
   "execution_count": null,
   "id": "b9cd4c2a-65d7-413d-9fa7-4c42177e0dfa",
   "metadata": {},
   "outputs": [],
   "source": []
  },
  {
   "cell_type": "code",
   "execution_count": 16,
   "id": "ebde820b-dfe0-4520-83a1-822a70b55b74",
   "metadata": {},
   "outputs": [
    {
     "name": "stdout",
     "output_type": "stream",
     "text": [
      "tensor([[[1., 1.],\n",
      "         [1., 1.],\n",
      "         [1., 1.]],\n",
      "\n",
      "        [[1., 1.],\n",
      "         [1., 1.],\n",
      "         [1., 1.]],\n",
      "\n",
      "        [[1., 1.],\n",
      "         [1., 1.],\n",
      "         [1., 1.]],\n",
      "\n",
      "        [[1., 1.],\n",
      "         [1., 1.],\n",
      "         [1., 1.]]])\n"
     ]
    }
   ],
   "source": [
    "a = torch.ones((4,3,2))\n",
    "print(a)"
   ]
  },
  {
   "cell_type": "code",
   "execution_count": 17,
   "id": "a0f649be-674a-4c3c-aeff-dfebf11596e9",
   "metadata": {},
   "outputs": [
    {
     "name": "stdout",
     "output_type": "stream",
     "text": [
      "tensor([[[2., 2.],\n",
      "         [2., 2.],\n",
      "         [2., 2.]],\n",
      "\n",
      "        [[2., 2.],\n",
      "         [2., 2.],\n",
      "         [2., 2.]],\n",
      "\n",
      "        [[2., 2.],\n",
      "         [2., 2.],\n",
      "         [2., 2.]],\n",
      "\n",
      "        [[2., 2.],\n",
      "         [2., 2.],\n",
      "         [2., 2.]]])\n"
     ]
    }
   ],
   "source": [
    "b = a + torch.ones((3,2))\n",
    "print(b)"
   ]
  },
  {
   "cell_type": "code",
   "execution_count": 18,
   "id": "fb65e3dd-1384-4ff1-87d0-df7b724e56e2",
   "metadata": {},
   "outputs": [
    {
     "name": "stdout",
     "output_type": "stream",
     "text": [
      "tensor([[[2., 2.],\n",
      "         [2., 2.],\n",
      "         [2., 2.]],\n",
      "\n",
      "        [[2., 2.],\n",
      "         [2., 2.],\n",
      "         [2., 2.]],\n",
      "\n",
      "        [[2., 2.],\n",
      "         [2., 2.],\n",
      "         [2., 2.]],\n",
      "\n",
      "        [[2., 2.],\n",
      "         [2., 2.],\n",
      "         [2., 2.]]])\n"
     ]
    }
   ],
   "source": [
    "c = a * (torch.ones((3,1))*2)\n",
    "print(c)"
   ]
  },
  {
   "cell_type": "code",
   "execution_count": 20,
   "id": "1e1c4762-6533-4c1d-a854-3968f9a2dd49",
   "metadata": {},
   "outputs": [
    {
     "name": "stdout",
     "output_type": "stream",
     "text": [
      "tensor([[[1., 1.],\n",
      "         [1., 1.],\n",
      "         [1., 1.]],\n",
      "\n",
      "        [[1., 1.],\n",
      "         [1., 1.],\n",
      "         [1., 1.]],\n",
      "\n",
      "        [[1., 1.],\n",
      "         [1., 1.],\n",
      "         [1., 1.]],\n",
      "\n",
      "        [[1., 1.],\n",
      "         [1., 1.],\n",
      "         [1., 1.]]])\n",
      "tensor([[2., 2.]])\n",
      "tensor([[[2., 2.],\n",
      "         [2., 2.],\n",
      "         [2., 2.]],\n",
      "\n",
      "        [[2., 2.],\n",
      "         [2., 2.],\n",
      "         [2., 2.]],\n",
      "\n",
      "        [[2., 2.],\n",
      "         [2., 2.],\n",
      "         [2., 2.]],\n",
      "\n",
      "        [[2., 2.],\n",
      "         [2., 2.],\n",
      "         [2., 2.]]])\n"
     ]
    }
   ],
   "source": [
    "print(a)\n",
    "print(torch.ones((1,2))*2)\n",
    "d = a * (torch.ones((1,2))*2)\n",
    "print(d)"
   ]
  },
  {
   "cell_type": "code",
   "execution_count": 38,
   "id": "4b9d108b-e5d4-4f11-baac-783577dd0027",
   "metadata": {},
   "outputs": [
    {
     "data": {
      "text/plain": [
       "tensor([[1., 2.],\n",
       "        [3., 4.]])"
      ]
     },
     "execution_count": 38,
     "metadata": {},
     "output_type": "execute_result"
    }
   ],
   "source": [
    "torch.ones((2,2)) * (torch.Tensor([ [1,2], [3,4]]))"
   ]
  },
  {
   "cell_type": "code",
   "execution_count": 40,
   "id": "e8b89ff4-7efe-4947-ae3c-42979482c3bc",
   "metadata": {},
   "outputs": [
    {
     "data": {
      "text/plain": [
       "tensor([[10., 12.],\n",
       "        [10., 12.]])"
      ]
     },
     "execution_count": 40,
     "metadata": {},
     "output_type": "execute_result"
    }
   ],
   "source": [
    "torch.ones((2,3)).matmul( (torch.Tensor([ [1,2], [3,4], [6,6]])))"
   ]
  },
  {
   "cell_type": "code",
   "execution_count": null,
   "id": "f2746e96-c09d-41ea-8c8a-d3b00fc7e3ce",
   "metadata": {},
   "outputs": [],
   "source": []
  },
  {
   "cell_type": "code",
   "execution_count": null,
   "id": "6871cff2-158a-4098-921d-5f1d7651c05d",
   "metadata": {},
   "outputs": [],
   "source": []
  }
 ],
 "metadata": {
  "kernelspec": {
   "display_name": "Python 3 (ipykernel)",
   "language": "python",
   "name": "python3"
  },
  "language_info": {
   "codemirror_mode": {
    "name": "ipython",
    "version": 3
   },
   "file_extension": ".py",
   "mimetype": "text/x-python",
   "name": "python",
   "nbconvert_exporter": "python",
   "pygments_lexer": "ipython3",
   "version": "3.11.9"
  }
 },
 "nbformat": 4,
 "nbformat_minor": 5
}
