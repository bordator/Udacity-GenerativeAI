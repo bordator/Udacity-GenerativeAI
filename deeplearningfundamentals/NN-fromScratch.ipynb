{
 "cells": [
  {
   "cell_type": "markdown",
   "id": "0ba99973-c6ab-46c8-9524-c883e1c8c07c",
   "metadata": {},
   "source": [
    "In this example i build a complete Neural Network from scratch\n",
    "We need a loos function (CrossEntropy - Classes or MSQE-Mean Squared Error for Regression)\n",
    "We need to build an input and an output layer\n",
    "(Perceptron Network)\n",
    "An activation function like sigmoid or ReLu/logsoftmax"
   ]
  },
  {
   "cell_type": "code",
   "execution_count": 1,
   "id": "ee0cf5cd",
   "metadata": {},
   "outputs": [],
   "source": [
    "from pathlib import Path\n",
    "import requests\n",
    "\n",
    "DATA_PATH = Path(\"data\")\n",
    "PATH = DATA_PATH / \"mnist\"\n",
    "\n",
    "PATH.mkdir(parents=True, exist_ok=True)\n",
    "\n",
    "URL = \"https://github.com/pytorch/tutorials/raw/main/_static/\"\n",
    "FILENAME = \"mnist.pkl.gz\"\n",
    "\n",
    "if not (PATH / FILENAME).exists():\n",
    "        content = requests.get(URL + FILENAME).content\n",
    "        (PATH / FILENAME).open(\"wb\").write(content)"
   ]
  },
  {
   "cell_type": "code",
   "execution_count": 2,
   "id": "f00d81ad",
   "metadata": {},
   "outputs": [],
   "source": [
    "import pickle\n",
    "import gzip\n",
    "\n",
    "with gzip.open((PATH / FILENAME).as_posix(), \"rb\") as f:\n",
    "        ((x_train, y_train), (x_valid, y_valid), _) = pickle.load(f, encoding=\"latin-1\")"
   ]
  },
  {
   "cell_type": "code",
   "execution_count": 3,
   "id": "c6a57358",
   "metadata": {},
   "outputs": [
    {
     "data": {
      "image/png": "[encoded data removed]",
      "text/plain": [
       "<Figure size 640x480 with 1 Axes>"
      ]
     },
     "metadata": {},
     "output_type": "display_data"
    },
    {
     "name": "stdout",
     "output_type": "stream",
     "text": [
      "(50000, 784)\n"
     ]
    }
   ],
   "source": [
    "from matplotlib import pyplot\n",
    "import numpy as np\n",
    "\n",
    "pyplot.imshow(x_train[0].reshape((28, 28)), cmap=\"gray\")\n",
    "# ``pyplot.show()`` only if not on Colab\n",
    "try:\n",
    "    import google.colab\n",
    "except ImportError:\n",
    "    pyplot.show()\n",
    "print(x_train.shape)"
   ]
  },
  {
   "cell_type": "code",
   "execution_count": 4,
   "id": "d1f82323",
   "metadata": {},
   "outputs": [
    {
     "name": "stdout",
     "output_type": "stream",
     "text": [
      "tensor([[0., 0., 0.,  ..., 0., 0., 0.],\n",
      "        [0., 0., 0.,  ..., 0., 0., 0.],\n",
      "        [0., 0., 0.,  ..., 0., 0., 0.],\n",
      "        ...,\n",
      "        [0., 0., 0.,  ..., 0., 0., 0.],\n",
      "        [0., 0., 0.,  ..., 0., 0., 0.],\n",
      "        [0., 0., 0.,  ..., 0., 0., 0.]]) tensor([5, 0, 4,  ..., 8, 4, 8])\n",
      "torch.Size([50000, 784])\n",
      "tensor(0) tensor(9)\n"
     ]
    }
   ],
   "source": [
    "import torch\n",
    "\n",
    "x_train, y_train, x_valid, y_valid = map(\n",
    "    torch.tensor, (x_train, y_train, x_valid, y_valid)\n",
    ")\n",
    "n, c = x_train.shape\n",
    "print(x_train, y_train)\n",
    "print(x_train.shape)\n",
    "print(y_train.min(), y_train.max())"
   ]
  },
  {
   "cell_type": "code",
   "execution_count": 5,
   "id": "221a8964",
   "metadata": {},
   "outputs": [
    {
     "data": {
      "text/plain": [
       "torch.Size([50000, 784])"
      ]
     },
     "execution_count": 5,
     "metadata": {},
     "output_type": "execute_result"
    }
   ],
   "source": [
    "x_train.size()"
   ]
  },
  {
   "cell_type": "code",
   "execution_count": 6,
   "id": "897d54b2-5910-453c-bb63-bf340e57ffd4",
   "metadata": {},
   "outputs": [],
   "source": [
    "import math\n",
    "import torch"
   ]
  },
  {
   "cell_type": "code",
   "execution_count": 7,
   "id": "e0ba9fa8-d1a8-42f3-8a54-4795f8f0b425",
   "metadata": {},
   "outputs": [],
   "source": [
    "#Create weights/bias and initialize them with \n",
    "#Xavier initialisation http://proceedings.mlr.press/v9/glorot10a/glorot10a.pdf\n",
    "weights : torch.Tensor = torch.rand(784, 10) / math.sqrt(784)\n",
    "weights.requires_grad_()\n",
    "bias = torch.zeros(10, requires_grad=True)"
   ]
  },
  {
   "cell_type": "code",
   "execution_count": 8,
   "id": "2a53e567-e9df-4367-a76d-44455eaa6130",
   "metadata": {},
   "outputs": [
    {
     "name": "stdout",
     "output_type": "stream",
     "text": [
      "Log tensor([[-2.5854, -1.8857, -1.9407, -2.8117, -2.0255, -2.8579, -2.8202, -1.9138,\n",
      "         -2.4444, -2.4535],\n",
      "        [-2.3842, -2.4739, -2.3418, -2.5431, -2.1208, -2.0251, -2.2422, -2.3750,\n",
      "         -2.5857, -2.1013],\n",
      "        [-2.7516, -2.0956, -1.8875, -2.7416, -1.9939, -2.4686, -2.3567, -2.1680,\n",
      "         -2.6766, -2.3181],\n",
      "        [-2.2515, -2.0757, -2.3320, -2.0842, -2.2402, -2.4355, -2.7682, -2.6101,\n",
      "         -2.0271, -2.4562],\n",
      "        [-2.3231, -2.3903, -1.9813, -2.3035, -2.4875, -2.7573, -2.7470, -1.9904,\n",
      "         -2.0351, -2.3579],\n",
      "        [-2.8035, -2.3437, -2.1447, -2.1506, -2.0150, -1.9429, -2.6696, -2.4856,\n",
      "         -2.1299, -2.7824],\n",
      "        [-2.2182, -2.6286, -2.4391, -2.0033, -2.7276, -2.7363, -2.0623, -2.2512,\n",
      "         -2.3524, -1.9724],\n",
      "        [-2.1521, -1.9444, -2.5156, -2.6684, -1.8557, -2.3603, -2.5422, -1.9784,\n",
      "         -2.7901, -2.7907],\n",
      "        [-2.4665, -2.5914, -2.5962, -1.9755, -2.0008, -2.1326, -2.2284, -2.6000,\n",
      "         -2.6483, -2.1164],\n",
      "        [-2.3396, -2.1912, -2.7287, -2.2744, -2.8079, -2.0302, -2.1279, -2.4356,\n",
      "         -1.9884, -2.4247],\n",
      "        [-2.3215, -2.6328, -2.4538, -1.9626, -2.3167, -2.1756, -2.5162, -1.9434,\n",
      "         -2.5718, -2.3966],\n",
      "        [-2.7332, -2.7976, -2.3306, -1.9747, -2.6723, -2.0773, -1.9423, -2.7208,\n",
      "         -1.9075, -2.4536]])\n",
      "Summe log tensor([-23.7388, -23.1930, -23.4582, -23.2806, -23.3734, -23.4678, -23.3913,\n",
      "        -23.5979, -23.3562, -23.3487, -23.2911, -23.6099])\n"
     ]
    }
   ],
   "source": [
    "#definition der Bewertungsfunktion\n",
    "def log_softmax(x : torch.Tensor) -> torch.Tensor:\n",
    "    # print(f'x-shape {x.shape}')\n",
    "    # expression = x.exp()\n",
    "    # print('expresion shape', expression.shape)\n",
    "    # expression = expression.sum(-1)\n",
    "    # print(expression.shape)\n",
    "    # expression = expression.log()\n",
    "    # print(expression.shape)\n",
    "    # expression = expression.unsqueeze(-1)\n",
    "    # print(expression.shape)\n",
    "    # return x - expression\n",
    "    return x - x.exp().sum(-1).log().unsqueeze(-1)\n",
    "\n",
    "def softmax(x):\n",
    "    return x.exp()/torch.sum(torch.exp(x), dim=1).unsqueeze(-1)\n",
    "\n",
    "def model(xb):\n",
    "    return log_softmax(xb @ weights + bias)\n",
    "\n",
    "x = torch.rand(12,10)\n",
    "#print(x)\n",
    "log_soft = log_softmax(x)\n",
    "print(f'Log {log_soft}')\n",
    "print(f'Summe log {log_soft.sum(1)}')"
   ]
  },
  {
   "cell_type": "code",
   "execution_count": 9,
   "id": "9159ae81-e36b-4634-8b06-6f7b6d96e482",
   "metadata": {},
   "outputs": [
    {
     "name": "stdout",
     "output_type": "stream",
     "text": [
      "Log tensor([[-2.4959, -2.4000, -2.2851, -2.2124, -2.1700, -2.7062, -2.5137, -2.6635,\n",
      "         -2.1566, -1.7820],\n",
      "        [-2.0990, -2.1209, -2.0489, -2.4197, -2.5525, -2.2724, -2.1879, -2.6996,\n",
      "         -2.6485, -2.2202],\n",
      "        [-2.5756, -2.3211, -2.6271, -2.1411, -2.3810, -2.4549, -1.8859, -2.5093,\n",
      "         -2.2611, -2.1175],\n",
      "        [-2.6242, -2.2074, -2.5096, -2.2337, -2.0993, -2.0061, -2.0261, -2.5478,\n",
      "         -2.7361, -2.3322],\n",
      "        [-2.2126, -2.0743, -2.6152, -2.9077, -2.1432, -2.5079, -2.3579, -2.0639,\n",
      "         -2.5739, -1.9615],\n",
      "        [-2.9458, -2.6063, -2.0223, -1.9717, -1.9912, -2.4055, -2.5449, -2.0186,\n",
      "         -2.3536, -2.6744],\n",
      "        [-2.5352, -2.0811, -2.7037, -2.6960, -2.6683, -2.5360, -2.0282, -1.8548,\n",
      "         -1.9503, -2.4926],\n",
      "        [-2.0279, -2.0218, -2.4747, -2.8916, -2.1921, -2.2919, -2.3825, -2.2551,\n",
      "         -2.1394, -2.6788],\n",
      "        [-2.5711, -2.4956, -2.5084, -1.9011, -2.0458, -2.5458, -2.1748, -2.1833,\n",
      "         -2.5445, -2.3248],\n",
      "        [-2.0186, -2.5479, -2.5139, -2.2264, -1.9101, -2.6531, -2.6877, -2.2124,\n",
      "         -2.2876, -2.2771],\n",
      "        [-2.5929, -2.2657, -2.2258, -2.0692, -2.7233, -2.0530, -2.3674, -2.8275,\n",
      "         -2.0269, -2.2206],\n",
      "        [-2.0272, -2.7495, -2.3971, -2.7439, -2.2844, -2.2069, -1.9418, -2.7702,\n",
      "         -2.2288, -2.0922]])\n",
      "Summe log tensor([-23.3854, -23.2697, -23.2747, -23.3223, -23.4181, -23.5342, -23.5462,\n",
      "        -23.3559, -23.2952, -23.3350, -23.3723, -23.4421])\n",
      "Log tensor([[0.0824, 0.0907, 0.1018, 0.1094, 0.1142, 0.0668, 0.0810, 0.0697, 0.1157,\n",
      "         0.1683],\n",
      "        [0.1226, 0.1199, 0.1289, 0.0889, 0.0779, 0.1031, 0.1121, 0.0672, 0.0708,\n",
      "         0.1086],\n",
      "        [0.0761, 0.0982, 0.0723, 0.1175, 0.0925, 0.0859, 0.1517, 0.0813, 0.1042,\n",
      "         0.1203],\n",
      "        [0.0725, 0.1100, 0.0813, 0.1071, 0.1225, 0.1345, 0.1318, 0.0783, 0.0648,\n",
      "         0.0971],\n",
      "        [0.1094, 0.1256, 0.0732, 0.0546, 0.1173, 0.0814, 0.0946, 0.1270, 0.0762,\n",
      "         0.1406],\n",
      "        [0.0526, 0.0738, 0.1324, 0.1392, 0.1365, 0.0902, 0.0785, 0.1328, 0.0950,\n",
      "         0.0689],\n",
      "        [0.0792, 0.1248, 0.0670, 0.0675, 0.0694, 0.0792, 0.1316, 0.1565, 0.1422,\n",
      "         0.0827],\n",
      "        [0.1316, 0.1324, 0.0842, 0.0555, 0.1117, 0.1011, 0.0923, 0.1049, 0.1177,\n",
      "         0.0686],\n",
      "        [0.0765, 0.0824, 0.0814, 0.1494, 0.1293, 0.0784, 0.1136, 0.1127, 0.0785,\n",
      "         0.0978],\n",
      "        [0.1328, 0.0782, 0.0810, 0.1079, 0.1481, 0.0704, 0.0680, 0.1094, 0.1015,\n",
      "         0.1026],\n",
      "        [0.0748, 0.1038, 0.1080, 0.1263, 0.0657, 0.1283, 0.0937, 0.0592, 0.1317,\n",
      "         0.1085],\n",
      "        [0.1317, 0.0640, 0.0910, 0.0643, 0.1018, 0.1100, 0.1434, 0.0626, 0.1077,\n",
      "         0.1234]])\n",
      "Summe softtensor([1.0000, 1.0000, 1.0000, 1.0000, 1.0000, 1.0000, 1.0000, 1.0000, 1.0000,\n",
      "        1.0000, 1.0000, 1.0000])\n"
     ]
    }
   ],
   "source": [
    "x = torch.rand(12,10)\n",
    "#print(x)\n",
    "log_soft = log_softmax(x)\n",
    "print(f'Log {log_soft}')\n",
    "print(f'Summe log {log_soft.sum(1)}')\n",
    "\n",
    "soft = softmax(x)\n",
    "print(f'Log {soft}')\n",
    "print(f'Summe soft{soft.sum(1)}')\n",
    "\n",
    "\n"
   ]
  },
  {
   "cell_type": "code",
   "execution_count": 10,
   "id": "d87262ea",
   "metadata": {},
   "outputs": [
    {
     "data": {
      "text/plain": [
       "tensor([[-2.4959, -2.4000, -2.2851, -2.2124, -2.1700, -2.7062, -2.5137, -2.6635,\n",
       "         -2.1566, -1.7820],\n",
       "        [-2.0990, -2.1209, -2.0489, -2.4197, -2.5525, -2.2724, -2.1879, -2.6996,\n",
       "         -2.6485, -2.2202],\n",
       "        [-2.5756, -2.3211, -2.6271, -2.1411, -2.3810, -2.4549, -1.8859, -2.5093,\n",
       "         -2.2611, -2.1175],\n",
       "        [-2.6242, -2.2074, -2.5096, -2.2337, -2.0993, -2.0061, -2.0261, -2.5478,\n",
       "         -2.7361, -2.3322],\n",
       "        [-2.2126, -2.0743, -2.6152, -2.9077, -2.1432, -2.5079, -2.3579, -2.0639,\n",
       "         -2.5739, -1.9615],\n",
       "        [-2.9458, -2.6063, -2.0223, -1.9717, -1.9912, -2.4055, -2.5449, -2.0186,\n",
       "         -2.3536, -2.6744],\n",
       "        [-2.5352, -2.0811, -2.7037, -2.6960, -2.6683, -2.5360, -2.0282, -1.8548,\n",
       "         -1.9503, -2.4926],\n",
       "        [-2.0279, -2.0218, -2.4747, -2.8916, -2.1921, -2.2919, -2.3825, -2.2551,\n",
       "         -2.1394, -2.6788],\n",
       "        [-2.5711, -2.4956, -2.5084, -1.9011, -2.0458, -2.5458, -2.1748, -2.1833,\n",
       "         -2.5445, -2.3248],\n",
       "        [-2.0186, -2.5479, -2.5139, -2.2264, -1.9101, -2.6531, -2.6877, -2.2124,\n",
       "         -2.2876, -2.2771],\n",
       "        [-2.5929, -2.2657, -2.2258, -2.0692, -2.7233, -2.0530, -2.3674, -2.8275,\n",
       "         -2.0269, -2.2206],\n",
       "        [-2.0272, -2.7495, -2.3971, -2.7439, -2.2844, -2.2069, -1.9418, -2.7702,\n",
       "         -2.2288, -2.0922]])"
      ]
     },
     "execution_count": 10,
     "metadata": {},
     "output_type": "execute_result"
    }
   ],
   "source": [
    "from torch.nn import LogSoftmax\n",
    "logmax : LogSoftmax = LogSoftmax(dim=1)\n",
    "logmax(x)"
   ]
  },
  {
   "cell_type": "code",
   "execution_count": 11,
   "id": "b08db653-1e8a-42c1-9372-626f1f8b7c16",
   "metadata": {},
   "outputs": [
    {
     "name": "stdout",
     "output_type": "stream",
     "text": [
      "torch.Size([64, 784])\n"
     ]
    }
   ],
   "source": [
    "bs = 64\n",
    "\n",
    "xb = x_train[0:bs]\n",
    "print(xb.shape)\n",
    "preds = model(xb)\n"
   ]
  },
  {
   "cell_type": "code",
   "execution_count": 12,
   "id": "be3a721b",
   "metadata": {},
   "outputs": [
    {
     "data": {
      "text/plain": [
       "tensor([-23.0535, -23.0417, -23.0601, -23.0436, -23.0756, -23.0847, -23.0420,\n",
       "        -23.0548, -23.0412, -23.0379, -23.0427, -23.0579, -23.0786, -23.0653,\n",
       "        -23.0435, -23.0607, -23.0638, -23.0541, -23.0319, -23.0437, -23.0561,\n",
       "        -23.0637, -23.0343, -23.0440, -23.0494, -23.0642, -23.0438, -23.0847,\n",
       "        -23.0815, -23.0511, -23.0618, -23.0512, -23.0585, -23.0476, -23.0668,\n",
       "        -23.0631, -23.0633, -23.0734, -23.0562, -23.0549, -23.0447, -23.0458,\n",
       "        -23.0393, -23.0416, -23.0670, -23.0438, -23.0422, -23.0431, -23.0468,\n",
       "        -23.0687, -23.0498, -23.0729, -23.0553, -23.0531, -23.0617, -23.0480,\n",
       "        -23.0756, -23.0322, -23.0625, -23.0475, -23.0739, -23.0429, -23.0635,\n",
       "        -23.0744], grad_fn=<SumBackward1>)"
      ]
     },
     "execution_count": 12,
     "metadata": {},
     "output_type": "execute_result"
    }
   ],
   "source": [
    "preds.sum(1)"
   ]
  },
  {
   "cell_type": "code",
   "execution_count": 13,
   "id": "5ba62f96-00a0-4662-9529-dc63b22c0679",
   "metadata": {},
   "outputs": [
    {
     "name": "stdout",
     "output_type": "stream",
     "text": [
      "tensor([-2.2513, -2.4630, -2.3101, -2.2636, -2.3227, -2.3043, -2.3617, -2.2854,\n",
      "        -2.3325, -2.1590], grad_fn=<SelectBackward0>) torch.Size([64, 10])\n"
     ]
    }
   ],
   "source": [
    "preds[0], preds.shape\n",
    "print(preds[0], preds.shape)\n"
   ]
  },
  {
   "cell_type": "code",
   "execution_count": 14,
   "id": "a1018266-1b88-46da-8b89-b0ab93b343a0",
   "metadata": {},
   "outputs": [],
   "source": [
    "def nll(input : torch.Tensor, target : torch.Tensor):\n",
    "    #print(f'input preds: {input.shape}')\n",
    "    #print(f'target y: {target.shape}')\n",
    "\n",
    "    return -input[range(target.shape[0]), target].mean()"
   ]
  },
  {
   "cell_type": "code",
   "execution_count": 15,
   "id": "bc54ea72-6deb-4a0d-a8fa-dc41ff17bff7",
   "metadata": {},
   "outputs": [],
   "source": [
    "loss_func = nll"
   ]
  },
  {
   "cell_type": "code",
   "execution_count": 16,
   "id": "1c792d8f-f140-4ad7-aa26-f4e5373ecc57",
   "metadata": {},
   "outputs": [
    {
     "name": "stdout",
     "output_type": "stream",
     "text": [
      "yb torch.Size([64])\n",
      "tensor(2.2812, grad_fn=<NegBackward0>)\n"
     ]
    }
   ],
   "source": [
    "yb = y_train[0:bs]\n",
    "print(f'yb {yb.shape}')\n",
    "print(loss_func(preds, yb))"
   ]
  },
  {
   "cell_type": "code",
   "execution_count": 17,
   "id": "9148638c",
   "metadata": {},
   "outputs": [
    {
     "data": {
      "text/plain": [
       "tensor([5, 0, 4, 1, 9, 2, 1, 3, 1, 4, 3, 5, 3, 6, 1, 7, 2, 8, 6, 9, 4, 0, 9, 1,\n",
       "        1, 2, 4, 3, 2, 7, 3, 8, 6, 9, 0, 5, 6, 0, 7, 6, 1, 8, 7, 9, 3, 9, 8, 5,\n",
       "        9, 3, 3, 0, 7, 4, 9, 8, 0, 9, 4, 1, 4, 4, 6, 0])"
      ]
     },
     "execution_count": 17,
     "metadata": {},
     "output_type": "execute_result"
    }
   ],
   "source": [
    "yb"
   ]
  },
  {
   "cell_type": "code",
   "execution_count": 18,
   "id": "3160eff7-1aa7-45ba-a465-be25cc66fbe1",
   "metadata": {},
   "outputs": [
    {
     "data": {
      "text/plain": [
       "tensor([-2.3043, -2.2763, -2.4011, -2.2813, -2.3929, -2.2818, -2.3368, -2.3649,\n",
       "        -2.2935, -2.2782, -2.3099, -2.3828, -2.1818, -2.2027, -2.2802, -2.2897,\n",
       "        -2.1642, -2.2350, -2.2210, -2.2137, -2.4148, -2.2401, -2.2960, -2.2812,\n",
       "        -2.2519, -2.1924, -2.2819, -2.2472, -2.3766, -2.2728, -2.3176, -2.2728,\n",
       "        -2.1593, -2.2218, -2.3077, -2.3576, -2.1381, -2.3674, -2.2092, -2.1815,\n",
       "        -2.2264, -2.3624, -2.2719, -2.2570, -2.2361, -2.3211, -2.2679, -2.3977,\n",
       "        -2.3129, -2.2875, -2.2171, -2.2437, -2.2353, -2.4483, -2.2272, -2.3593,\n",
       "        -2.2194, -2.2848, -2.4008, -2.2663, -2.3244, -2.4065, -2.1168, -2.2249],\n",
       "       grad_fn=<IndexBackward0>)"
      ]
     },
     "execution_count": 18,
     "metadata": {},
     "output_type": "execute_result"
    }
   ],
   "source": [
    "preds[range(yb.shape[0]), yb]"
   ]
  },
  {
   "cell_type": "code",
   "execution_count": 19,
   "id": "86dbc907",
   "metadata": {},
   "outputs": [
    {
     "data": {
      "text/plain": [
       "tensor([-2.3043, -2.2763, -2.4011, -2.2813, -2.3929, -2.2818, -2.3368, -2.3649,\n",
       "        -2.2935, -2.2782, -2.3099, -2.3828, -2.1818, -2.2027, -2.2802, -2.2897,\n",
       "        -2.1642, -2.2350, -2.2210, -2.2137, -2.4148, -2.2401, -2.2960, -2.2812,\n",
       "        -2.2519, -2.1924, -2.2819, -2.2472, -2.3766, -2.2728, -2.3176, -2.2728,\n",
       "        -2.1593, -2.2218, -2.3077, -2.3576, -2.1381, -2.3674, -2.2092, -2.1815,\n",
       "        -2.2264, -2.3624, -2.2719, -2.2570, -2.2361, -2.3211, -2.2679, -2.3977,\n",
       "        -2.3129, -2.2875, -2.2171, -2.2437, -2.2353, -2.4483, -2.2272, -2.3593,\n",
       "        -2.2194, -2.2848, -2.4008, -2.2663, -2.3244, -2.4065, -2.1168, -2.2249],\n",
       "       grad_fn=<IndexBackward0>)"
      ]
     },
     "execution_count": 19,
     "metadata": {},
     "output_type": "execute_result"
    }
   ],
   "source": [
    "preds[ range(yb.shape[0]),[5, 0, 4, 1, 9, 2, 1, 3, 1, 4, 3, 5, 3, 6, 1, 7, 2, 8, 6, 9, 4, 0, 9, 1,\n",
    "        1, 2, 4, 3, 2, 7, 3, 8, 6, 9, 0, 5, 6, 0, 7, 6, 1, 8, 7, 9, 3, 9, 8, 5,\n",
    "        9, 3, 3, 0, 7, 4, 9, 8, 0, 9, 4, 1, 4, 4, 6, 0]]"
   ]
  },
  {
   "cell_type": "code",
   "execution_count": 20,
   "id": "5384b4a2",
   "metadata": {},
   "outputs": [
    {
     "data": {
      "text/plain": [
       "tensor([5, 0, 4, 1, 9, 2, 1, 3, 1, 4, 3, 5, 3, 6, 1, 7, 2, 8, 6, 9, 4, 0, 9, 1,\n",
       "        1, 2, 4, 3, 2, 7, 3, 8, 6, 9, 0, 5, 6, 0, 7, 6, 1, 8, 7, 9, 3, 9, 8, 5,\n",
       "        9, 3, 3, 0, 7, 4, 9, 8, 0, 9, 4, 1, 4, 4, 6, 0])"
      ]
     },
     "execution_count": 20,
     "metadata": {},
     "output_type": "execute_result"
    }
   ],
   "source": [
    "yb"
   ]
  },
  {
   "cell_type": "code",
   "execution_count": 21,
   "id": "1e6ef2fb",
   "metadata": {},
   "outputs": [
    {
     "name": "stdout",
     "output_type": "stream",
     "text": [
      "tensor([[0.9423, 0.8737, 0.8712, 0.5882],\n",
      "        [0.7487, 0.3365, 0.4444, 0.9984],\n",
      "        [0.9156, 0.0024, 0.6533, 0.7923],\n",
      "        [0.7363, 0.9118, 0.0800, 0.7219]])\n"
     ]
    },
    {
     "data": {
      "text/plain": [
       "tensor([[0.8737, 0.3365, 0.0024, 0.9118],\n",
       "        [0.8712, 0.4444, 0.6533, 0.0800]])"
      ]
     },
     "execution_count": 21,
     "metadata": {},
     "output_type": "execute_result"
    }
   ],
   "source": [
    "test = torch.rand(4,4)\n",
    "print(test)\n",
    "test[range(4),[[1],[2]]]"
   ]
  },
  {
   "cell_type": "code",
   "execution_count": 22,
   "id": "32ec91ce",
   "metadata": {},
   "outputs": [
    {
     "data": {
      "text/plain": [
       "tensor([0, 3, 0, 1])"
      ]
     },
     "execution_count": 22,
     "metadata": {},
     "output_type": "execute_result"
    }
   ],
   "source": [
    "torch.argmax(test, dim=1)"
   ]
  },
  {
   "cell_type": "code",
   "execution_count": 23,
   "id": "84bc89a5",
   "metadata": {},
   "outputs": [],
   "source": [
    "#define an accuracy function\n",
    "def accuracy(out: torch.Tensor, yb : torch.Tensor) -> float :\n",
    "    #we get a 2 dimensial tensor and want to get the max from the columns\n",
    "    preds = torch.argmax(out, dim=1)\n",
    "    #compare the with the labels\n",
    "    accu = preds == yb\n",
    " #   print(accu.float())\n",
    "    return accu.float().mean()"
   ]
  },
  {
   "cell_type": "code",
   "execution_count": 24,
   "id": "771bcff6",
   "metadata": {},
   "outputs": [
    {
     "name": "stdout",
     "output_type": "stream",
     "text": [
      "tensor(0.1094)\n"
     ]
    }
   ],
   "source": [
    "print(accuracy(preds, yb=yb))"
   ]
  },
  {
   "cell_type": "code",
   "execution_count": 26,
   "id": "03e42e7a",
   "metadata": {},
   "outputs": [
    {
     "name": "stdout",
     "output_type": "stream",
     "text": [
      "> \u001b[0;32m/var/folders/2y/0c268cqn7_3f_9vkqqz8f4940000gn/T/ipykernel_40360/2426926645.py\u001b[0m(10)\u001b[0;36m<module>\u001b[0;34m()\u001b[0m\n",
      "\u001b[0;32m      8 \u001b[0;31m    \u001b[0;32mfor\u001b[0m \u001b[0mbatch\u001b[0m \u001b[0;32min\u001b[0m \u001b[0mrange\u001b[0m\u001b[0;34m(\u001b[0m\u001b[0;36m0\u001b[0m\u001b[0;34m,\u001b[0m \u001b[0mn\u001b[0m\u001b[0;34m//\u001b[0m\u001b[0mbs\u001b[0m\u001b[0;34m)\u001b[0m\u001b[0;34m:\u001b[0m\u001b[0;34m\u001b[0m\u001b[0;34m\u001b[0m\u001b[0m\n",
      "\u001b[0m\u001b[0;32m      9 \u001b[0;31m        \u001b[0mset_trace\u001b[0m\u001b[0;34m(\u001b[0m\u001b[0;34m)\u001b[0m\u001b[0;34m\u001b[0m\u001b[0;34m\u001b[0m\u001b[0m\n",
      "\u001b[0m\u001b[0;32m---> 10 \u001b[0;31m        \u001b[0mstart_i\u001b[0m \u001b[0;34m=\u001b[0m \u001b[0mbatch\u001b[0m \u001b[0;34m*\u001b[0m \u001b[0mbs\u001b[0m\u001b[0;34m\u001b[0m\u001b[0;34m\u001b[0m\u001b[0m\n",
      "\u001b[0m\u001b[0;32m     11 \u001b[0;31m        \u001b[0mend_i\u001b[0m \u001b[0;34m=\u001b[0m \u001b[0mstart_i\u001b[0m \u001b[0;34m+\u001b[0m \u001b[0mbs\u001b[0m\u001b[0;34m\u001b[0m\u001b[0;34m\u001b[0m\u001b[0m\n",
      "\u001b[0m\u001b[0;32m     12 \u001b[0;31m        \u001b[0mxb\u001b[0m \u001b[0;34m=\u001b[0m \u001b[0mx_train\u001b[0m\u001b[0;34m[\u001b[0m\u001b[0mstart_i\u001b[0m\u001b[0;34m:\u001b[0m\u001b[0mend_i\u001b[0m\u001b[0;34m]\u001b[0m\u001b[0;34m\u001b[0m\u001b[0;34m\u001b[0m\u001b[0m\n",
      "\u001b[0m\n"
     ]
    },
    {
     "name": "stdin",
     "output_type": "stream",
     "text": [
      "ipdb>  continue\n"
     ]
    },
    {
     "name": "stdout",
     "output_type": "stream",
     "text": [
      "> \u001b[0;32m/var/folders/2y/0c268cqn7_3f_9vkqqz8f4940000gn/T/ipykernel_40360/2426926645.py\u001b[0m(10)\u001b[0;36m<module>\u001b[0;34m()\u001b[0m\n",
      "\u001b[0;32m      8 \u001b[0;31m    \u001b[0;32mfor\u001b[0m \u001b[0mbatch\u001b[0m \u001b[0;32min\u001b[0m \u001b[0mrange\u001b[0m\u001b[0;34m(\u001b[0m\u001b[0;36m0\u001b[0m\u001b[0;34m,\u001b[0m \u001b[0mn\u001b[0m\u001b[0;34m//\u001b[0m\u001b[0mbs\u001b[0m\u001b[0;34m)\u001b[0m\u001b[0;34m:\u001b[0m\u001b[0;34m\u001b[0m\u001b[0;34m\u001b[0m\u001b[0m\n",
      "\u001b[0m\u001b[0;32m      9 \u001b[0;31m        \u001b[0mset_trace\u001b[0m\u001b[0;34m(\u001b[0m\u001b[0;34m)\u001b[0m\u001b[0;34m\u001b[0m\u001b[0;34m\u001b[0m\u001b[0m\n",
      "\u001b[0m\u001b[0;32m---> 10 \u001b[0;31m        \u001b[0mstart_i\u001b[0m \u001b[0;34m=\u001b[0m \u001b[0mbatch\u001b[0m \u001b[0;34m*\u001b[0m \u001b[0mbs\u001b[0m\u001b[0;34m\u001b[0m\u001b[0;34m\u001b[0m\u001b[0m\n",
      "\u001b[0m\u001b[0;32m     11 \u001b[0;31m        \u001b[0mend_i\u001b[0m \u001b[0;34m=\u001b[0m \u001b[0mstart_i\u001b[0m \u001b[0;34m+\u001b[0m \u001b[0mbs\u001b[0m\u001b[0;34m\u001b[0m\u001b[0;34m\u001b[0m\u001b[0m\n",
      "\u001b[0m\u001b[0;32m     12 \u001b[0;31m        \u001b[0mxb\u001b[0m \u001b[0;34m=\u001b[0m \u001b[0mx_train\u001b[0m\u001b[0;34m[\u001b[0m\u001b[0mstart_i\u001b[0m\u001b[0;34m:\u001b[0m\u001b[0mend_i\u001b[0m\u001b[0;34m]\u001b[0m\u001b[0;34m\u001b[0m\u001b[0;34m\u001b[0m\u001b[0m\n",
      "\u001b[0m\n"
     ]
    },
    {
     "name": "stdin",
     "output_type": "stream",
     "text": [
      "ipdb>  continue\n"
     ]
    },
    {
     "name": "stdout",
     "output_type": "stream",
     "text": [
      "> \u001b[0;32m/var/folders/2y/0c268cqn7_3f_9vkqqz8f4940000gn/T/ipykernel_40360/2426926645.py\u001b[0m(10)\u001b[0;36m<module>\u001b[0;34m()\u001b[0m\n",
      "\u001b[0;32m      8 \u001b[0;31m    \u001b[0;32mfor\u001b[0m \u001b[0mbatch\u001b[0m \u001b[0;32min\u001b[0m \u001b[0mrange\u001b[0m\u001b[0;34m(\u001b[0m\u001b[0;36m0\u001b[0m\u001b[0;34m,\u001b[0m \u001b[0mn\u001b[0m\u001b[0;34m//\u001b[0m\u001b[0mbs\u001b[0m\u001b[0;34m)\u001b[0m\u001b[0;34m:\u001b[0m\u001b[0;34m\u001b[0m\u001b[0;34m\u001b[0m\u001b[0m\n",
      "\u001b[0m\u001b[0;32m      9 \u001b[0;31m        \u001b[0mset_trace\u001b[0m\u001b[0;34m(\u001b[0m\u001b[0;34m)\u001b[0m\u001b[0;34m\u001b[0m\u001b[0;34m\u001b[0m\u001b[0m\n",
      "\u001b[0m\u001b[0;32m---> 10 \u001b[0;31m        \u001b[0mstart_i\u001b[0m \u001b[0;34m=\u001b[0m \u001b[0mbatch\u001b[0m \u001b[0;34m*\u001b[0m \u001b[0mbs\u001b[0m\u001b[0;34m\u001b[0m\u001b[0;34m\u001b[0m\u001b[0m\n",
      "\u001b[0m\u001b[0;32m     11 \u001b[0;31m        \u001b[0mend_i\u001b[0m \u001b[0;34m=\u001b[0m \u001b[0mstart_i\u001b[0m \u001b[0;34m+\u001b[0m \u001b[0mbs\u001b[0m\u001b[0;34m\u001b[0m\u001b[0;34m\u001b[0m\u001b[0m\n",
      "\u001b[0m\u001b[0;32m     12 \u001b[0;31m        \u001b[0mxb\u001b[0m \u001b[0;34m=\u001b[0m \u001b[0mx_train\u001b[0m\u001b[0;34m[\u001b[0m\u001b[0mstart_i\u001b[0m\u001b[0;34m:\u001b[0m\u001b[0mend_i\u001b[0m\u001b[0;34m]\u001b[0m\u001b[0;34m\u001b[0m\u001b[0;34m\u001b[0m\u001b[0m\n",
      "\u001b[0m\n"
     ]
    },
    {
     "name": "stdin",
     "output_type": "stream",
     "text": [
      "ipdb>  continue\n"
     ]
    },
    {
     "name": "stdout",
     "output_type": "stream",
     "text": [
      "> \u001b[0;32m/var/folders/2y/0c268cqn7_3f_9vkqqz8f4940000gn/T/ipykernel_40360/2426926645.py\u001b[0m(10)\u001b[0;36m<module>\u001b[0;34m()\u001b[0m\n",
      "\u001b[0;32m      8 \u001b[0;31m    \u001b[0;32mfor\u001b[0m \u001b[0mbatch\u001b[0m \u001b[0;32min\u001b[0m \u001b[0mrange\u001b[0m\u001b[0;34m(\u001b[0m\u001b[0;36m0\u001b[0m\u001b[0;34m,\u001b[0m \u001b[0mn\u001b[0m\u001b[0;34m//\u001b[0m\u001b[0mbs\u001b[0m\u001b[0;34m)\u001b[0m\u001b[0;34m:\u001b[0m\u001b[0;34m\u001b[0m\u001b[0;34m\u001b[0m\u001b[0m\n",
      "\u001b[0m\u001b[0;32m      9 \u001b[0;31m        \u001b[0mset_trace\u001b[0m\u001b[0;34m(\u001b[0m\u001b[0;34m)\u001b[0m\u001b[0;34m\u001b[0m\u001b[0;34m\u001b[0m\u001b[0m\n",
      "\u001b[0m\u001b[0;32m---> 10 \u001b[0;31m        \u001b[0mstart_i\u001b[0m \u001b[0;34m=\u001b[0m \u001b[0mbatch\u001b[0m \u001b[0;34m*\u001b[0m \u001b[0mbs\u001b[0m\u001b[0;34m\u001b[0m\u001b[0;34m\u001b[0m\u001b[0m\n",
      "\u001b[0m\u001b[0;32m     11 \u001b[0;31m        \u001b[0mend_i\u001b[0m \u001b[0;34m=\u001b[0m \u001b[0mstart_i\u001b[0m \u001b[0;34m+\u001b[0m \u001b[0mbs\u001b[0m\u001b[0;34m\u001b[0m\u001b[0;34m\u001b[0m\u001b[0m\n",
      "\u001b[0m\u001b[0;32m     12 \u001b[0;31m        \u001b[0mxb\u001b[0m \u001b[0;34m=\u001b[0m \u001b[0mx_train\u001b[0m\u001b[0;34m[\u001b[0m\u001b[0mstart_i\u001b[0m\u001b[0;34m:\u001b[0m\u001b[0mend_i\u001b[0m\u001b[0;34m]\u001b[0m\u001b[0;34m\u001b[0m\u001b[0;34m\u001b[0m\u001b[0m\n",
      "\u001b[0m\n"
     ]
    },
    {
     "name": "stdin",
     "output_type": "stream",
     "text": [
      "ipdb>  continue 100\n"
     ]
    },
    {
     "name": "stdout",
     "output_type": "stream",
     "text": [
      "> \u001b[0;32m/var/folders/2y/0c268cqn7_3f_9vkqqz8f4940000gn/T/ipykernel_40360/2426926645.py\u001b[0m(10)\u001b[0;36m<module>\u001b[0;34m()\u001b[0m\n",
      "\u001b[0;32m      8 \u001b[0;31m    \u001b[0;32mfor\u001b[0m \u001b[0mbatch\u001b[0m \u001b[0;32min\u001b[0m \u001b[0mrange\u001b[0m\u001b[0;34m(\u001b[0m\u001b[0;36m0\u001b[0m\u001b[0;34m,\u001b[0m \u001b[0mn\u001b[0m\u001b[0;34m//\u001b[0m\u001b[0mbs\u001b[0m\u001b[0;34m)\u001b[0m\u001b[0;34m:\u001b[0m\u001b[0;34m\u001b[0m\u001b[0;34m\u001b[0m\u001b[0m\n",
      "\u001b[0m\u001b[0;32m      9 \u001b[0;31m        \u001b[0mset_trace\u001b[0m\u001b[0;34m(\u001b[0m\u001b[0;34m)\u001b[0m\u001b[0;34m\u001b[0m\u001b[0;34m\u001b[0m\u001b[0m\n",
      "\u001b[0m\u001b[0;32m---> 10 \u001b[0;31m        \u001b[0mstart_i\u001b[0m \u001b[0;34m=\u001b[0m \u001b[0mbatch\u001b[0m \u001b[0;34m*\u001b[0m \u001b[0mbs\u001b[0m\u001b[0;34m\u001b[0m\u001b[0;34m\u001b[0m\u001b[0m\n",
      "\u001b[0m\u001b[0;32m     11 \u001b[0;31m        \u001b[0mend_i\u001b[0m \u001b[0;34m=\u001b[0m \u001b[0mstart_i\u001b[0m \u001b[0;34m+\u001b[0m \u001b[0mbs\u001b[0m\u001b[0;34m\u001b[0m\u001b[0;34m\u001b[0m\u001b[0m\n",
      "\u001b[0m\u001b[0;32m     12 \u001b[0;31m        \u001b[0mxb\u001b[0m \u001b[0;34m=\u001b[0m \u001b[0mx_train\u001b[0m\u001b[0;34m[\u001b[0m\u001b[0mstart_i\u001b[0m\u001b[0;34m:\u001b[0m\u001b[0mend_i\u001b[0m\u001b[0;34m]\u001b[0m\u001b[0;34m\u001b[0m\u001b[0;34m\u001b[0m\u001b[0m\n",
      "\u001b[0m\n"
     ]
    },
    {
     "name": "stdin",
     "output_type": "stream",
     "text": [
      "ipdb>  next 20\n"
     ]
    },
    {
     "name": "stdout",
     "output_type": "stream",
     "text": [
      "> \u001b[0;32m/var/folders/2y/0c268cqn7_3f_9vkqqz8f4940000gn/T/ipykernel_40360/2426926645.py\u001b[0m(11)\u001b[0;36m<module>\u001b[0;34m()\u001b[0m\n",
      "\u001b[0;32m      9 \u001b[0;31m        \u001b[0mset_trace\u001b[0m\u001b[0;34m(\u001b[0m\u001b[0;34m)\u001b[0m\u001b[0;34m\u001b[0m\u001b[0;34m\u001b[0m\u001b[0m\n",
      "\u001b[0m\u001b[0;32m     10 \u001b[0;31m        \u001b[0mstart_i\u001b[0m \u001b[0;34m=\u001b[0m \u001b[0mbatch\u001b[0m \u001b[0;34m*\u001b[0m \u001b[0mbs\u001b[0m\u001b[0;34m\u001b[0m\u001b[0;34m\u001b[0m\u001b[0m\n",
      "\u001b[0m\u001b[0;32m---> 11 \u001b[0;31m        \u001b[0mend_i\u001b[0m \u001b[0;34m=\u001b[0m \u001b[0mstart_i\u001b[0m \u001b[0;34m+\u001b[0m \u001b[0mbs\u001b[0m\u001b[0;34m\u001b[0m\u001b[0;34m\u001b[0m\u001b[0m\n",
      "\u001b[0m\u001b[0;32m     12 \u001b[0;31m        \u001b[0mxb\u001b[0m \u001b[0;34m=\u001b[0m \u001b[0mx_train\u001b[0m\u001b[0;34m[\u001b[0m\u001b[0mstart_i\u001b[0m\u001b[0;34m:\u001b[0m\u001b[0mend_i\u001b[0m\u001b[0;34m]\u001b[0m\u001b[0;34m\u001b[0m\u001b[0;34m\u001b[0m\u001b[0m\n",
      "\u001b[0m\u001b[0;32m     13 \u001b[0;31m        \u001b[0myb\u001b[0m \u001b[0;34m=\u001b[0m \u001b[0my_train\u001b[0m\u001b[0;34m[\u001b[0m\u001b[0mstart_i\u001b[0m\u001b[0;34m:\u001b[0m\u001b[0mend_i\u001b[0m\u001b[0;34m]\u001b[0m\u001b[0;34m\u001b[0m\u001b[0;34m\u001b[0m\u001b[0m\n",
      "\u001b[0m\n"
     ]
    },
    {
     "name": "stdin",
     "output_type": "stream",
     "text": [
      "ipdb>  quit\n"
     ]
    }
   ],
   "source": [
    "from IPython.core.debugger import set_trace\n",
    "lr : float = 0.05\n",
    "epochs : int = 2\n",
    "\n",
    "##first a innerloop to calculate the error and correct the weights and go through the batches\n",
    "for epoch in range(epochs):\n",
    "    #batch loop\n",
    "    for batch in range(0, n//bs):\n",
    "        #set_trace()\n",
    "        start_i = batch * bs\n",
    "        end_i = start_i + bs\n",
    "        xb = x_train[start_i:end_i]\n",
    "        yb = y_train[start_i:end_i]\n",
    "        preds = model(xb)\n",
    "        \n",
    "        loss = loss_func(preds, yb)\n",
    "        loss.backward()\n",
    "        \n",
    "        with torch.no_grad():\n",
    "            weights -= weights.grad * lr\n",
    "            bias -= bias.grad * lr\n",
    "            weights.grad.zero_()\n",
    "            bias.grad.zero_()\n"
   ]
  },
  {
   "cell_type": "code",
   "execution_count": 249,
   "id": "4889b7e1",
   "metadata": {},
   "outputs": [
    {
     "name": "stdout",
     "output_type": "stream",
     "text": [
      "input preds: torch.Size([64, 10])\n",
      "target y: torch.Size([64])\n",
      "tensor(0.3132, grad_fn=<NegBackward0>) tensor(0.9375)\n"
     ]
    }
   ],
   "source": [
    "print(loss_func(model(xb), yb), accuracy(model(xb), yb))"
   ]
  },
  {
   "cell_type": "code",
   "execution_count": 250,
   "id": "5f4b7db2",
   "metadata": {},
   "outputs": [
    {
     "name": "stdout",
     "output_type": "stream",
     "text": [
      "input preds: torch.Size([10000, 10])\n",
      "target y: torch.Size([10000])\n",
      "tensor(0.3382, grad_fn=<NegBackward0>) tensor(0.9088)\n"
     ]
    }
   ],
   "source": [
    "print(loss_func(model(x_valid), y_valid), accuracy(model(x_valid), y_valid))"
   ]
  },
  {
   "cell_type": "code",
   "execution_count": 251,
   "id": "c7f02b2e",
   "metadata": {},
   "outputs": [],
   "source": [
    "y_pred = model(x_valid[1500])"
   ]
  },
  {
   "cell_type": "code",
   "execution_count": 252,
   "id": "926655b6",
   "metadata": {},
   "outputs": [
    {
     "name": "stdout",
     "output_type": "stream",
     "text": [
      "tensor([ -8.0474, -10.7520,  -5.9974,  -4.1061,  -7.0198,  -7.9933, -10.0006,\n",
      "         -0.0366,  -7.0297,  -4.2342], grad_fn=<SubBackward0>)\n",
      "tensor(7)\n"
     ]
    }
   ],
   "source": [
    "print(y_pred)\n",
    "preds = torch.argmax(y_pred)\n",
    "print(preds)"
   ]
  },
  {
   "cell_type": "code",
   "execution_count": 253,
   "id": "71be7409",
   "metadata": {},
   "outputs": [
    {
     "data": {
      "image/png": "[encoded data removed]",
      "text/plain": [
       "<Figure size 640x480 with 1 Axes>"
      ]
     },
     "metadata": {},
     "output_type": "display_data"
    },
    {
     "name": "stdout",
     "output_type": "stream",
     "text": [
      "torch.Size([50000, 784])\n"
     ]
    }
   ],
   "source": [
    "from matplotlib import pyplot\n",
    "import numpy as np\n",
    "\n",
    "pyplot.imshow(x_valid[1500].reshape((28, 28)), cmap=\"gray\")\n",
    "# ``pyplot.show()`` only if not on Colab\n",
    "try:\n",
    "    import google.colab\n",
    "except ImportError:\n",
    "    pyplot.show()\n",
    "print(x_train.shape)\n"
   ]
  },
  {
   "cell_type": "code",
   "execution_count": null,
   "id": "3e6ad2ec",
   "metadata": {},
   "outputs": [],
   "source": []
  }
 ],
 "metadata": {
  "kernelspec": {
   "display_name": "Python 3 (ipykernel)",
   "language": "python",
   "name": "python3"
  },
  "language_info": {
   "codemirror_mode": {
    "name": "ipython",
    "version": 3
   },
   "file_extension": ".py",
   "mimetype": "text/x-python",
   "name": "python",
   "nbconvert_exporter": "python",
   "pygments_lexer": "ipython3",
   "version": "3.11.9"
  }
 },
 "nbformat": 4,
 "nbformat_minor": 5
}
