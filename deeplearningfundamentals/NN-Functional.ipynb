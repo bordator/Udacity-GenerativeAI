{
 "cells": [
  {
   "cell_type": "code",
   "execution_count": 5,
   "id": "f44ace1d-8144-4835-b2b1-c86f2ce55e1b",
   "metadata": {},
   "outputs": [],
   "source": [
    "from pathlib import Path\n",
    "import requests\n",
    "\n",
    "DATA_PATH = Path(\"data\")\n",
    "PATH = DATA_PATH / \"mnist\"\n",
    "\n",
    "PATH.mkdir(parents=True, exist_ok=True)\n",
    "\n",
    "URL = \"https://github.com/pytorch/tutorials/raw/main/_static/\"\n",
    "FILENAME = \"mnist.pkl.gz\"\n",
    "\n",
    "if not (PATH / FILENAME).exists():\n",
    "        content = requests.get(URL + FILENAME).content\n",
    "        (PATH / FILENAME).open(\"wb\").write(content)"
   ]
  },
  {
   "cell_type": "code",
   "execution_count": 6,
   "id": "308c0446-c00f-499f-8b1e-e7b13757f31b",
   "metadata": {},
   "outputs": [],
   "source": [
    "import pickle\n",
    "import gzip\n",
    "\n",
    "with gzip.open((PATH / FILENAME).as_posix(), \"rb\") as f:\n",
    "        ((x_train, y_train), (x_valid, y_valid), _) = pickle.load(f, encoding=\"latin-1\")"
   ]
  },
  {
   "cell_type": "code",
   "execution_count": 7,
   "id": "a3b7b93a-0fdf-42fa-b476-4df0f258e71b",
   "metadata": {},
   "outputs": [
    {
     "data": {
      "image/png": "[encoded data removed]",
      "text/plain": [
       "<Figure size 640x480 with 1 Axes>"
      ]
     },
     "metadata": {},
     "output_type": "display_data"
    },
    {
     "name": "stdout",
     "output_type": "stream",
     "text": [
      "(50000, 784)\n"
     ]
    }
   ],
   "source": [
    "from matplotlib import pyplot\n",
    "import numpy as np\n",
    "\n",
    "pyplot.imshow(x_train[0].reshape((28, 28)), cmap=\"gray\")\n",
    "# ``pyplot.show()`` only if not on Colab\n",
    "try:\n",
    "    import google.colab\n",
    "except ImportError:\n",
    "    pyplot.show()\n",
    "print(x_train.shape)"
   ]
  },
  {
   "cell_type": "code",
   "execution_count": 8,
   "id": "2ec50794-c113-4821-aee8-be39f7227fee",
   "metadata": {},
   "outputs": [
    {
     "name": "stdout",
     "output_type": "stream",
     "text": [
      "tensor([[0., 0., 0.,  ..., 0., 0., 0.],\n",
      "        [0., 0., 0.,  ..., 0., 0., 0.],\n",
      "        [0., 0., 0.,  ..., 0., 0., 0.],\n",
      "        ...,\n",
      "        [0., 0., 0.,  ..., 0., 0., 0.],\n",
      "        [0., 0., 0.,  ..., 0., 0., 0.],\n",
      "        [0., 0., 0.,  ..., 0., 0., 0.]]) tensor([5, 0, 4,  ..., 8, 4, 8])\n",
      "torch.Size([50000, 784])\n",
      "tensor(0) tensor(9)\n"
     ]
    }
   ],
   "source": [
    "import torch\n",
    "\n",
    "x_train, y_train, x_valid, y_valid = map(\n",
    "    torch.tensor, (x_train, y_train, x_valid, y_valid)\n",
    ")\n",
    "n, c = x_train.shape\n",
    "print(x_train, y_train)\n",
    "print(x_train.shape)\n",
    "print(y_train.min(), y_train.max())"
   ]
  },
  {
   "cell_type": "code",
   "execution_count": 11,
   "id": "6566bffb-675f-4236-be81-768b264c1788",
   "metadata": {},
   "outputs": [],
   "source": [
    "import torch.nn.functional as F\n",
    "from torch import Tensor\n",
    "import math"
   ]
  },
  {
   "cell_type": "code",
   "execution_count": 12,
   "id": "3d5ff8c9",
   "metadata": {},
   "outputs": [],
   "source": [
    "#Create weights/bias and initialize them with \n",
    "#Xavier initialisation http://proceedings.mlr.press/v9/glorot10a/glorot10a.pdf\n",
    "weights : torch.Tensor = torch.rand(784, 10) / math.sqrt(784)\n",
    "weights.requires_grad_()\n",
    "bias = torch.zeros(10, requires_grad=True)"
   ]
  },
  {
   "cell_type": "code",
   "execution_count": 149,
   "id": "6f6f4d59-d382-4c49-8ef8-0d07da6dd13b",
   "metadata": {},
   "outputs": [],
   "source": [
    "loss_func : F.cross_entropy = F.cross_entropy\n",
    "\n",
    "def self (xb : Tensor) -> Tensor:\n",
    "    return xb @ weights + bias\n",
    "\n",
    "#define an accuracy function\n",
    "def accuracy(out: torch.Tensor, yb : torch.Tensor) -> float :\n",
    "    #we get a 2 dimensial tensor and want to get the max from the columns\n",
    "    preds = torch.argmax(out, dim=1)\n",
    "    #compare the with the labels\n",
    "    accu = preds == yb\n",
    " #   print(accu.float())\n",
    "    return accu.float().mean()"
   ]
  },
  {
   "cell_type": "code",
   "execution_count": 22,
   "id": "7da8de34-dc39-4d06-8c75-e37c8d60dcd6",
   "metadata": {},
   "outputs": [],
   "source": [
    "bs = 64\n",
    "xb : Tensor = x_train[0:bs]\n",
    "yb : Tensor = y_train[0:bs]\n",
    "\n",
    "loss = loss_func(self(xb=xb), yb)\n",
    "accu = accuracy(self(xb), yb)"
   ]
  },
  {
   "cell_type": "code",
   "execution_count": 24,
   "id": "b07a40ef-c901-4f34-a992-c4732d8322e4",
   "metadata": {},
   "outputs": [
    {
     "name": "stdout",
     "output_type": "stream",
     "text": [
      "tensor(2.3081, grad_fn=<NllLossBackward0>)\n",
      "tensor(0.1562)\n"
     ]
    }
   ],
   "source": [
    "print(loss)\n",
    "print(accu)"
   ]
  },
  {
   "cell_type": "code",
   "execution_count": 68,
   "id": "a251400a-ce61-4317-afee-a844dceb69b8",
   "metadata": {},
   "outputs": [],
   "source": [
    "from torch import nn\n",
    "\n",
    "\n",
    "class Mnist_Logistic(nn.Module):\n",
    "    def __init__(self, epochs : int = 10, bs : int = 64, lr : float = 0.15):\n",
    "        super().__init__()\n",
    "        self.weights = nn.Parameter(torch.rand(784,10)/math.sqrt(784))\n",
    "        self.bias = nn.Parameter(torch.zeros(10))\n",
    "        self.epochs : int = epochs\n",
    "        self.bs : int = bs\n",
    "        self.lr : float = lr\n",
    "        \n",
    "        \n",
    "    def forward(self, xb : Tensor) -> Tensor:\n",
    "        return xb @ self.weights + self.bias\n",
    "    \n",
    "    def fit(self ):\n",
    "        \n",
    "        for epoch in range(self.epochs):\n",
    "            for i in range((n - 1) // self.bs + 1):\n",
    "                start_i = self.bs*i\n",
    "                end_i = start_i + self.bs\n",
    "                xb = x_train[start_i: end_i]\n",
    "                yb = y_train[start_i: end_i]\n",
    "                \n",
    "                pred = self(xb)\n",
    "                loss = loss_func(pred, yb)\n",
    "                loss.backward()\n",
    "                \n",
    "                with torch.no_grad():\n",
    "                    for p in self.parameters():\n",
    "                        p -= p.grad * self.lr\n",
    "                    self.zero_grad()"
   ]
  },
  {
   "cell_type": "code",
   "execution_count": 69,
   "id": "57eececd-cbcb-46b3-8991-2271e772de1d",
   "metadata": {},
   "outputs": [
    {
     "name": "stdout",
     "output_type": "stream",
     "text": [
      "tensor(2.2901, grad_fn=<NllLossBackward0>)\n",
      "tensor(0.1562)\n"
     ]
    }
   ],
   "source": [
    "model = Mnist_Logistic()\n",
    "loss = loss_func(model(xb=xb), yb)\n",
    "accu = accuracy(model(xb), yb)\n",
    "print(loss)\n",
    "print(accu)"
   ]
  },
  {
   "cell_type": "code",
   "execution_count": 70,
   "id": "f610e0c1",
   "metadata": {},
   "outputs": [
    {
     "name": "stdout",
     "output_type": "stream",
     "text": [
      "tensor(0.1721, grad_fn=<NllLossBackward0>)\n",
      "tensor(0.9531)\n"
     ]
    }
   ],
   "source": [
    "#model = Mnist_Logistic()\n",
    "\n",
    "model.fit()\n",
    "loss = loss_func(model(xb), yb)\n",
    "accu = accuracy(model(xb), yb)\n",
    "print(loss)\n",
    "print(accu)"
   ]
  },
  {
   "cell_type": "code",
   "execution_count": null,
   "id": "76ac6f1c-6147-432e-bdfc-ea33a9dd7ea8",
   "metadata": {},
   "outputs": [],
   "source": []
  },
  {
   "cell_type": "code",
   "execution_count": 91,
   "id": "65bee2dd-d04c-4a5f-94ac-72fa5205c448",
   "metadata": {},
   "outputs": [],
   "source": [
    "from torch import optim\n",
    "\n",
    "class Mnist_Logistic2(nn.Module):\n",
    "    def __init__(self, epochs : int = 10, bs : int = 64, lr : float = 0.5) -> None:\n",
    "        super().__init__()\n",
    "        self.lin : nn.Linear = nn.Linear(784, 10)\n",
    "        self.optimizer : optim.SGD = optim.SGD(self.parameters(), lr=lr) \n",
    "        self.epochs : int = epochs\n",
    "        self.bs : int = bs\n",
    "        self.lr : float = lr\n",
    "        \n",
    "    def forward(self, xb):\n",
    "        return self.lin(xb)\n",
    "    \n",
    "    def fit(self ):\n",
    "        \n",
    "        for epoch in range(self.epochs):\n",
    "            for i in range((n - 1) // self.bs + 1):\n",
    "                start_i = self.bs*i\n",
    "                end_i = start_i + self.bs\n",
    "                xb = x_train[start_i: end_i]\n",
    "                yb = y_train[start_i: end_i]\n",
    "                \n",
    "                pred = self(xb)\n",
    "                loss = loss_func(pred, yb)\n",
    "                loss.backward()\n",
    "                \n",
    "                self.optimizer.step()\n",
    "                self.zero_grad()"
   ]
  },
  {
   "cell_type": "code",
   "execution_count": 92,
   "id": "48dd3d02-b95b-4b90-a9d5-06afe5cbe1cb",
   "metadata": {},
   "outputs": [
    {
     "name": "stdout",
     "output_type": "stream",
     "text": [
      "tensor(2.3308, grad_fn=<NllLossBackward0>)\n",
      "tensor(0.1654, grad_fn=<NllLossBackward0>)\n"
     ]
    }
   ],
   "source": [
    "model = Mnist_Logistic2()\n",
    "loss = loss_func(model(xb), yb)\n",
    "print(loss)\n",
    "model.fit()\n",
    "loss = loss_func(model(xb), yb)\n",
    "print(loss)"
   ]
  },
  {
   "cell_type": "code",
   "execution_count": 111,
   "id": "ba25fd10-be3a-4040-9f9a-379d3b6346c6",
   "metadata": {},
   "outputs": [],
   "source": [
    "from torch.utils.data import TensorDataset\n",
    "\n",
    "train_ds = TensorDataset(x_train, y_train)\n"
   ]
  },
  {
   "cell_type": "code",
   "execution_count": 105,
   "id": "062034b6-a7f3-487e-976a-8656542bc184",
   "metadata": {},
   "outputs": [],
   "source": [
    "class Mnist_Logistic3(nn.Module):\n",
    "    def __init__(self, epochs : int = 10, bs : int = 64, lr : float = 0.5) -> None:\n",
    "        super().__init__()\n",
    "        self.lin : nn.Linear = nn.Linear(784, 10)\n",
    "        self.optimizer : optim.SGD = optim.SGD(self.parameters(), lr=lr) \n",
    "        self.epochs : int = epochs\n",
    "        self.bs : int = bs\n",
    "        self.lr : float = lr\n",
    "        \n",
    "    def forward(self, xb):\n",
    "        return self.lin(xb)\n",
    "    \n",
    "    def fit(self ):\n",
    "        \n",
    "        for epoch in range(self.epochs):\n",
    "            print(f'epoch {self.epochs} of {epoch}')\n",
    "            for i in range((n - 1) // self.bs + 1):\n",
    "                if i % 200 == 0 and i > 0:\n",
    "                    print(f' {self.bs*i / n * 100}% loaded')\n",
    "                #batch weises laden\n",
    "                xb, yb = train_ds[bs*i:bs*i+bs]\n",
    "                #batchweises predicten (Vektor batches x traindata)\n",
    "                pred = self(xb)\n",
    "                loss = loss_func(pred, yb)\n",
    "                loss.backward()\n",
    "                \n",
    "                self.optimizer.step()\n",
    "                self.zero_grad()"
   ]
  },
  {
   "cell_type": "code",
   "execution_count": 106,
   "id": "212973ec-faf9-4dc1-980d-d918e5499237",
   "metadata": {},
   "outputs": [
    {
     "name": "stdout",
     "output_type": "stream",
     "text": [
      "tensor(2.3368, grad_fn=<NllLossBackward0>)\n",
      "epoch 10 of 0\n",
      " 25.6% loaded\n",
      " 51.2% loaded\n",
      " 76.8% loaded\n",
      "epoch 10 of 1\n",
      " 25.6% loaded\n",
      " 51.2% loaded\n",
      " 76.8% loaded\n",
      "epoch 10 of 2\n",
      " 25.6% loaded\n",
      " 51.2% loaded\n",
      " 76.8% loaded\n",
      "epoch 10 of 3\n",
      " 25.6% loaded\n",
      " 51.2% loaded\n",
      " 76.8% loaded\n",
      "epoch 10 of 4\n",
      " 25.6% loaded\n",
      " 51.2% loaded\n",
      " 76.8% loaded\n",
      "epoch 10 of 5\n",
      " 25.6% loaded\n",
      " 51.2% loaded\n",
      " 76.8% loaded\n",
      "epoch 10 of 6\n",
      " 25.6% loaded\n",
      " 51.2% loaded\n",
      " 76.8% loaded\n",
      "epoch 10 of 7\n",
      " 25.6% loaded\n",
      " 51.2% loaded\n",
      " 76.8% loaded\n",
      "epoch 10 of 8\n",
      " 25.6% loaded\n",
      " 51.2% loaded\n",
      " 76.8% loaded\n",
      "epoch 10 of 9\n",
      " 25.6% loaded\n",
      " 51.2% loaded\n",
      " 76.8% loaded\n",
      "tensor(0.1649, grad_fn=<NllLossBackward0>)\n"
     ]
    }
   ],
   "source": [
    "model = Mnist_Logistic3()\n",
    "loss = loss_func(model(xb), yb)\n",
    "print(loss)\n",
    "model.fit()\n",
    "loss = loss_func(model(xb), yb)\n",
    "print(loss)"
   ]
  },
  {
   "cell_type": "markdown",
   "id": "fba3f6ca-3b7d-45ea-b011-6062450ee14f",
   "metadata": {},
   "source": [
    "#Now we use a DataLoader to get the batches"
   ]
  },
  {
   "cell_type": "code",
   "execution_count": 107,
   "id": "4422d2a6-a6a9-477f-8ae1-ccd4333b38ad",
   "metadata": {},
   "outputs": [],
   "source": [
    "from torch.utils.data import DataLoader\n",
    "\n",
    "train_ds = TensorDataset(x_train, y_train)\n",
    "train_dl = DataLoader(train_ds, batch_size=bs)"
   ]
  },
  {
   "cell_type": "code",
   "execution_count": 108,
   "id": "bb5d5a3e",
   "metadata": {},
   "outputs": [],
   "source": [
    "#With DataLoader\n",
    "class Mnist_Logistic4(nn.Module):\n",
    "    def __init__(self, epochs : int = 10, bs : int = 64, lr : float = 0.5) -> None:\n",
    "        super().__init__()\n",
    "        self.lin : nn.Linear = nn.Linear(784, 10)\n",
    "        self.optimizer : optim.SGD = optim.SGD(self.parameters(), lr=lr) \n",
    "        self.epochs : int = epochs\n",
    "        self.bs : int = bs\n",
    "        self.lr : float = lr\n",
    "        \n",
    "    def forward(self, xb):\n",
    "        return self.lin(xb)\n",
    "    \n",
    "    def fit(self ):\n",
    "        \n",
    "        for epoch in range(self.epochs):\n",
    "            print(f'epoch {self.epochs} of {epoch}')\n",
    "            for xb, yb in train_dl:\n",
    "                # if i % 200 == 0 and i > 0:\n",
    "                #     print(f' {self.bs*i / n * 100}% loaded')\n",
    "                #batch weises laden\n",
    "                # xb, yb = train_ds[bs*i:bs*i+bs]\n",
    "                #batchweises predicten (Vektor batches x traindata)\n",
    "                pred = self(xb)\n",
    "                loss = loss_func(pred, yb)\n",
    "                loss.backward()\n",
    "                \n",
    "                self.optimizer.step()\n",
    "                self.zero_grad()"
   ]
  },
  {
   "cell_type": "code",
   "execution_count": 109,
   "id": "b41fee6c",
   "metadata": {},
   "outputs": [
    {
     "name": "stdout",
     "output_type": "stream",
     "text": [
      "tensor(2.2725, grad_fn=<NllLossBackward0>)\n",
      "epoch 10 of 0\n",
      " 25.6% loaded\n",
      " 51.2% loaded\n",
      " 76.8% loaded\n",
      "epoch 10 of 1\n",
      " 25.6% loaded\n",
      " 51.2% loaded\n",
      " 76.8% loaded\n",
      "epoch 10 of 2\n",
      " 25.6% loaded\n",
      " 51.2% loaded\n",
      " 76.8% loaded\n",
      "epoch 10 of 3\n",
      " 25.6% loaded\n",
      " 51.2% loaded\n",
      " 76.8% loaded\n",
      "epoch 10 of 4\n",
      " 25.6% loaded\n",
      " 51.2% loaded\n",
      " 76.8% loaded\n",
      "epoch 10 of 5\n",
      " 25.6% loaded\n",
      " 51.2% loaded\n",
      " 76.8% loaded\n",
      "epoch 10 of 6\n",
      " 25.6% loaded\n",
      " 51.2% loaded\n",
      " 76.8% loaded\n",
      "epoch 10 of 7\n",
      " 25.6% loaded\n",
      " 51.2% loaded\n",
      " 76.8% loaded\n",
      "epoch 10 of 8\n",
      " 25.6% loaded\n",
      " 51.2% loaded\n",
      " 76.8% loaded\n",
      "epoch 10 of 9\n",
      " 25.6% loaded\n",
      " 51.2% loaded\n",
      " 76.8% loaded\n",
      "tensor(0.1652, grad_fn=<NllLossBackward0>)\n"
     ]
    }
   ],
   "source": [
    "model = Mnist_Logistic3()\n",
    "loss = loss_func(model(xb), yb)\n",
    "print(loss)\n",
    "model.fit()\n",
    "loss = loss_func(model(xb), yb)\n",
    "print(loss)"
   ]
  },
  {
   "cell_type": "code",
   "execution_count": 114,
   "id": "a5761ab8",
   "metadata": {},
   "outputs": [],
   "source": [
    "train_ds : TensorDataset = TensorDataset(x_train, y_train)\n",
    "valid_ds : TensorDataset = TensorDataset(x_valid, y_valid)\n",
    "train_dl : DataLoader = DataLoader(train_ds, batch_size=bs, shuffle=True)\n",
    "valid_dl : DataLoader = DataLoader(valid_ds, batch_size=2*bs)\n"
   ]
  },
  {
   "cell_type": "code",
   "execution_count": 125,
   "id": "7a2dfed2",
   "metadata": {},
   "outputs": [],
   "source": [
    "#With Validation Data\n",
    "class Mnist_Logistic5(nn.Module):\n",
    "    def __init__(self, epochs : int = 2, bs : int = 64, lr : float = 0.5) -> None:\n",
    "        super().__init__()\n",
    "        self.lin : nn.Linear = nn.Linear(784, 10)\n",
    "        self.optimizer : optim.SGD = optim.SGD(self.parameters(), lr=lr) \n",
    "        self.epochs : int = epochs\n",
    "        self.bs : int = bs\n",
    "        self.lr : float = lr\n",
    "        \n",
    "    def forward(self, xb):\n",
    "        return self.lin(xb)\n",
    "    \n",
    "    def fit(self):\n",
    "        for epoch in range(self.epochs):\n",
    "#            print(f'epoch {self.epochs} of {epoch}')\n",
    "            for xb, yb in train_dl:\n",
    "                self.train()\n",
    "                pred = self(xb)\n",
    "                loss = loss_func(pred, yb)\n",
    "                loss.backward()\n",
    "                \n",
    "                self.optimizer.step()\n",
    "                self.zero_grad()\n",
    "            self.eval()\n",
    "            \n",
    "            with torch.no_grad():\n",
    "                valid_loss = sum(loss_func(self(xv), yv) for xv, yv in valid_dl)\n",
    "            print(epoch, valid_loss / len(valid_dl))"
   ]
  },
  {
   "cell_type": "code",
   "execution_count": 126,
   "id": "62dde5a8",
   "metadata": {},
   "outputs": [
    {
     "name": "stdout",
     "output_type": "stream",
     "text": [
      "tensor(2.2909, grad_fn=<NllLossBackward0>)\n",
      "0 tensor(0.2965)\n",
      "1 tensor(0.6380)\n",
      "tensor(0.5559, grad_fn=<NllLossBackward0>)\n"
     ]
    }
   ],
   "source": [
    "model = Mnist_Logistic5()\n",
    "loss = loss_func(model(xb), yb)\n",
    "print(loss)\n",
    "model.fit()\n",
    "loss = loss_func(model(xb), yb)\n",
    "print(loss)"
   ]
  },
  {
   "cell_type": "code",
   "execution_count": 151,
   "id": "57d2a9ae",
   "metadata": {},
   "outputs": [
    {
     "data": {
      "text/plain": [
       "10112"
      ]
     },
     "execution_count": 151,
     "metadata": {},
     "output_type": "execute_result"
    }
   ],
   "source": [
    "len(valid_dl)*2*64"
   ]
  },
  {
   "cell_type": "code",
   "execution_count": 147,
   "id": "f0143d2b",
   "metadata": {},
   "outputs": [
    {
     "name": "stdout",
     "output_type": "stream",
     "text": [
      "1 a\n",
      "1 a\n",
      "2 b\n",
      "2 b\n"
     ]
    }
   ],
   "source": [
    "l : list = [1,2]\n",
    "l2 : list = ['a', 'b']\n",
    "for a, b in zip(l, l2):\n",
    "    print(*next(zip([a],[b])))\n",
    "    print(a, b)"
   ]
  },
  {
   "cell_type": "code",
   "execution_count": 167,
   "id": "493eaa52",
   "metadata": {},
   "outputs": [],
   "source": [
    "#With optimization\n",
    "class Mnist_Logistic6(nn.Module):\n",
    "    def __init__(self, epochs : int = 2, bs : int = 64, lr : float = 0.5) -> None:\n",
    "        super().__init__()\n",
    "        self.lin : nn.Linear = nn.Linear(784, 10)\n",
    "        self.optimizer : optim.SGD = optim.SGD(self.parameters(), lr=lr) \n",
    "        self.loss_func : F.cross_entropy = F.cross_entropy\n",
    "        self.epochs : int = epochs\n",
    "        self.bs : int = bs\n",
    "        self.lr : float = lr\n",
    "        \n",
    "    def forward(self, xb):\n",
    "        return self.lin(xb)\n",
    "    \n",
    "    def loss_batch(self, xb : Tensor, yb: Tensor, opt : optim.Optimizer = None) :\n",
    "        \"\"\"_summary_\n",
    "\n",
    "        Args:\n",
    "            xb (Tensor): _description_\n",
    "            yb (Tensor): _description_\n",
    "            opt (optim.Optimizer, optional): _description_. Defaults to None.\n",
    "\n",
    "        Returns:\n",
    "            float, int : loss and len of  a batch\n",
    "        \"\"\"\n",
    "        loss :F.cross_entropy = self.loss_func(self(xb), yb)\n",
    "\n",
    "        if opt is not None :\n",
    "            loss.backward()\n",
    "            opt.step()\n",
    "            opt.zero_grad()\n",
    "        return loss.item(), len(xb)\n",
    "    \n",
    "    def fit(self):\n",
    "        for epoch in range(self.epochs):\n",
    "#            print(f'epoch {self.epochs} of {epoch}')\n",
    "            self.train()\n",
    "            for xb, yb in train_dl:\n",
    "                #train modus\n",
    "                loss = self.loss_batch(xb, yb, self.optimizer)\n",
    "            \n",
    "            #model swithcing\n",
    "            self.eval()\n",
    "            with torch.no_grad():\n",
    "                valid_loss, nums = zip(* [self.loss_batch(xv, yv) for xv, yv in valid_dl])\n",
    "            print(epoch, np.sum(np.multiply(valid_loss, nums)) / np.sum(nums))"
   ]
  },
  {
   "cell_type": "code",
   "execution_count": 168,
   "id": "53100a83",
   "metadata": {},
   "outputs": [
    {
     "name": "stdout",
     "output_type": "stream",
     "text": [
      "tensor(2.3059, grad_fn=<NllLossBackward0>)\n",
      "0 0.31070893892645834\n",
      "1 0.2960463997244835\n",
      "tensor(0.1413, grad_fn=<NllLossBackward0>)\n"
     ]
    }
   ],
   "source": [
    "model = Mnist_Logistic6()\n",
    "loss = loss_func(model(xb), yb)\n",
    "print(loss)\n",
    "model.fit()\n",
    "loss = loss_func(model(xb), yb)\n",
    "print(loss)"
   ]
  },
  {
   "cell_type": "code",
   "execution_count": 153,
   "id": "3d8b4240",
   "metadata": {},
   "outputs": [
    {
     "data": {
      "text/plain": [
       "array([[0., 1., 2.],\n",
       "       [3., 4., 5.],\n",
       "       [6., 7., 8.]])"
      ]
     },
     "execution_count": 153,
     "metadata": {},
     "output_type": "execute_result"
    }
   ],
   "source": [
    "x1"
   ]
  },
  {
   "cell_type": "code",
   "execution_count": 154,
   "id": "c2124f2a",
   "metadata": {},
   "outputs": [
    {
     "data": {
      "text/plain": [
       "array([0., 1., 2.])"
      ]
     },
     "execution_count": 154,
     "metadata": {},
     "output_type": "execute_result"
    }
   ],
   "source": [
    "x2"
   ]
  },
  {
   "cell_type": "code",
   "execution_count": null,
   "id": "9f8460d8",
   "metadata": {},
   "outputs": [],
   "source": []
  }
 ],
 "metadata": {
  "kernelspec": {
   "display_name": "Python 3 (ipykernel)",
   "language": "python",
   "name": "python3"
  },
  "language_info": {
   "codemirror_mode": {
    "name": "ipython",
    "version": 3
   },
   "file_extension": ".py",
   "mimetype": "text/x-python",
   "name": "python",
   "nbconvert_exporter": "python",
   "pygments_lexer": "ipython3",
   "version": "3.11.9"
  }
 },
 "nbformat": 4,
 "nbformat_minor": 5
}
