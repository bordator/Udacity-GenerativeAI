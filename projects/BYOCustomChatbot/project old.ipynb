{
 "cells": [
  {
   "cell_type": "markdown",
   "id": "124e5672",
   "metadata": {},
   "source": [
    "# Custom Chatbot Project"
   ]
  },
  {
   "cell_type": "markdown",
   "id": "2a4a94b3",
   "metadata": {},
   "source": [
    "TODO: In this cell, write an explanation of which dataset you have chosen and why it is appropriate for this task"
   ]
  },
  {
   "cell_type": "markdown",
   "id": "c03ab48e",
   "metadata": {},
   "source": [
    "## Data collection"
   ]
  },
  {
   "cell_type": "code",
   "execution_count": 2,
   "id": "f96a5882",
   "metadata": {},
   "outputs": [],
   "source": [
    "import requests\n",
    "import json\n",
    "from bs4 import BeautifulSoup"
   ]
  },
  {
   "cell_type": "code",
   "execution_count": 251,
   "id": "3cc310d9",
   "metadata": {},
   "outputs": [],
   "source": [
    "#DataPath\n",
    "path = \"./data/\""
   ]
  },
  {
   "cell_type": "code",
   "execution_count": 252,
   "id": "f77038a6",
   "metadata": {},
   "outputs": [],
   "source": [
    "# Function to fetch a page\n",
    "def fetch_page(url: str):\n",
    "    headers = {\n",
    "    'user-agent': 'Mozilla/5.0 (Macintosh; Intel Mac OS X 10_15_7) AppleWebKit/537.36 (KHTML, like Gecko) Chrome/112.0.0.0 Safari/537.36'\n",
    "    }\n",
    "    response = requests.get(url, headers=headers)\n",
    "    r = requests.get(url)\n",
    "    if r.status_code == 200:\n",
    "        return r.text\n",
    "    else:\n",
    "        print(r.status_code)\n",
    "        return r.text"
   ]
  },
  {
   "cell_type": "code",
   "execution_count": 253,
   "id": "7dd320f1",
   "metadata": {},
   "outputs": [],
   "source": [
    "#research_url = 'https://www.bmw.com/en/digital-journey/bmw-i5-helpful-features-for-everyday-life.html'\n",
    "# Get the source of the page\n",
    "#source = fetch_page(research_url)\n",
    "\n",
    "# Write the source to disk\n",
    "#with open(\"BMW i5_ with dynamism and a helping hand _ BMW.html\", \"w\") as f:\n",
    "#    f.write(source)\n",
    "    \n",
    "# Load the source from disk\n",
    "#with open(\"BMW i5_with dynamism and a helping hand_BMW.html\", \"r\") as f:\n",
    "    #source = f.read()\n",
    "#with open(\"BMW_Batterielifecycle.html\", \"r\") as f:\n",
    "    #source2 = f.read()\n",
    "with open(path + \"2025BMWiXxDrive50All-ElectricSUV_ Features&Specs.html\", \"r\") as f:\n",
    "    source = f.read()\n",
    "with open(path + \"2025BMWiXxDrive50All-ElectricSUV_ Features&Specs.html\", \"r\") as f:\n",
    "    source2 = f.read()\n",
    "with open(path + \"BMWi5M60All-ElectricSedan_BMWUSA.html\", \"r\") as f:\n",
    "    source3 = f.read()"
   ]
  },
  {
   "cell_type": "code",
   "execution_count": null,
   "id": "de50559a",
   "metadata": {},
   "outputs": [],
   "source": []
  },
  {
   "cell_type": "code",
   "execution_count": 254,
   "id": "fe5396cf",
   "metadata": {},
   "outputs": [
    {
     "data": {
      "text/plain": [
       "'\\ndef parsePage(source : str) -> list: #As far as i understand the Text is placed\\n    soup = BeautifulSoup(source, \\'html.parser\\')\\n    \\n    articles = soup.find_all(\\'article\\')\\n    for i, res in enumerate(articles):\\n        print(i)\\n\\n    result = articles[0].find_all(\\'div\\',  {\"class\": \"pwt pwt--alabaster pwt--paddings\"})\\n    if(len(result) == 0):\\n        result = articles[0].find_all(\\'div\\',  {\"pwt pwt--white pwt--paddings\"})\\n        \\n    #print(result)\\n\\n    #for i, res in enumerate(result):\\n    #    print(i, result)\\n    foundHeadline : bool = False\\n    texts : list = []\\n    idx : int = 0\\n    for container in result:\\n        print(container,\\'\\n\\')\\n        for i, element in enumerate(container.contents):\\n            #print(i, \\'\\n\\')\\n            #test = element.contents\\n            #print(repr(element))\\n#            print(element.div[\\'class\\'])\\n#            if \\'class\\' in element.div.keys():\\n            if not (element.div is None)  or (\\'class\\' in element.div.keys()):\\n                #new headline only for the first case others have a headline\\n                if (not foundHeadline) and (\\'pw-m-headline-teaser\\' in element.div[\\'class\\']):\\n                    #start new entry with a headline\\n                    foundHeadline=True\\n                    texts.append(element.text)\\n                    idx = len(texts) - 1\\n                #no headline and an article\\n                elif (not foundHeadline) and (\\'pw-m-listicle\\' in element.div[\\'class\\']):\\n                    #new Article\\n                    if len(texts) == 0:\\n                        texts.append(element.text)\\n                        idx = len(texts) - 1\\n                    else:\\n                        texts[idx] += element.text\\n                #Headline exists        \\n                elif (foundHeadline) and (\\'pw-m-headline-teaser\\' in element.div[\\'class\\']):\\n                    #new headline\\n                    texts.append(element.text)\\n                    idx = len(texts) - 1\\n                elif (foundHeadline) and (\\'pw-m-listicle\\' in element.div[\\'class\\']):\\n                    texts[idx] += element.text\\n            \\n                else:\\n                    texts.append(element.text)\\n                    idx = len(texts) - 1\\n    return texts  \\n'"
      ]
     },
     "execution_count": 254,
     "metadata": {},
     "output_type": "execute_result"
    }
   ],
   "source": [
    "\"\"\"\n",
    "def parsePage(source : str) -> list: #As far as i understand the Text is placed\n",
    "    soup = BeautifulSoup(source, 'html.parser')\n",
    "    \n",
    "    articles = soup.find_all('article')\n",
    "    for i, res in enumerate(articles):\n",
    "        print(i)\n",
    "\n",
    "    result = articles[0].find_all('div',  {\"class\": \"pwt pwt--alabaster pwt--paddings\"})\n",
    "    if(len(result) == 0):\n",
    "        result = articles[0].find_all('div',  {\"pwt pwt--white pwt--paddings\"})\n",
    "        \n",
    "    #print(result)\n",
    "\n",
    "    #for i, res in enumerate(result):\n",
    "    #    print(i, result)\n",
    "    foundHeadline : bool = False\n",
    "    texts : list = []\n",
    "    idx : int = 0\n",
    "    for container in result:\n",
    "        print(container,'\\n')\n",
    "        for i, element in enumerate(container.contents):\n",
    "            #print(i, '\\n')\n",
    "            #test = element.contents\n",
    "            #print(repr(element))\n",
    "#            print(element.div['class'])\n",
    "#            if 'class' in element.div.keys():\n",
    "            if not (element.div is None)  or ('class' in element.div.keys()):\n",
    "                #new headline only for the first case others have a headline\n",
    "                if (not foundHeadline) and ('pw-m-headline-teaser' in element.div['class']):\n",
    "                    #start new entry with a headline\n",
    "                    foundHeadline=True\n",
    "                    texts.append(element.text)\n",
    "                    idx = len(texts) - 1\n",
    "                #no headline and an article\n",
    "                elif (not foundHeadline) and ('pw-m-listicle' in element.div['class']):\n",
    "                    #new Article\n",
    "                    if len(texts) == 0:\n",
    "                        texts.append(element.text)\n",
    "                        idx = len(texts) - 1\n",
    "                    else:\n",
    "                        texts[idx] += element.text\n",
    "                #Headline exists        \n",
    "                elif (foundHeadline) and ('pw-m-headline-teaser' in element.div['class']):\n",
    "                    #new headline\n",
    "                    texts.append(element.text)\n",
    "                    idx = len(texts) - 1\n",
    "                elif (foundHeadline) and ('pw-m-listicle' in element.div['class']):\n",
    "                    texts[idx] += element.text\n",
    "            \n",
    "                else:\n",
    "                    texts.append(element.text)\n",
    "                    idx = len(texts) - 1\n",
    "    return texts  \n",
    "\"\"\"                 \n",
    "#print(texts)        \n",
    "            \n",
    "#        if ('pw-m-headline-teaser' in element.div['class']):\n",
    "#            print('Headline\\n')\n",
    "#            print(element.text)\n",
    "            \n",
    "#        if ('pw-m-listicle' in element.div['class']):\n",
    "#            print('Artikel\\n')\n",
    "#            print(element.text)\n",
    "\n",
    "        #if element.find('div', {\"class\": \"headlineteaser\"}) != None:\n",
    "        #    print(f'Headline :\\n {element}')\n",
    "        #else:\n",
    "        #    print(f'Sonstiges :\\n {element}')\n",
    "            \n",
    "        #print(repr(element.contents))\n",
    "        #for g in test:\n",
    "        # if 'listicle' in g:\n",
    "         #   print(g)\n",
    "            #if g.find('div', {\"class\": \"pw-m-headline-teaser pw-m-headline-teaser--center pw-m-headline-teaser--space-small\"}) != None:\n",
    "                #print(f'Headline :\\n {g.text}')\n",
    "            \n",
    "    #if('listicle' in element.contents):\n",
    "    #    print(repr(element))"
   ]
  },
  {
   "cell_type": "code",
   "execution_count": 255,
   "id": "31a67249",
   "metadata": {},
   "outputs": [],
   "source": [
    "def parsePage2(source : str, vehicle_type : str) -> list: #As far as i understand the Text is placed\n",
    "    soup = BeautifulSoup(source, 'html.parser')\n",
    "    \n",
    "    #e.g. Performance and efficieny\n",
    "    headers = soup.find_all('div', { 'class' : \"category-container--section-wrapper\"})\n",
    "    #print(len(headers))\n",
    "    featureList : list = []\n",
    "    for header in headers:\n",
    "        #Idetify the headline\n",
    "        features_Headline = header.find('h4', { 'class' : \"section-header__copy h-left headline-6--bold\"})\n",
    "        if(features_Headline != None):\n",
    "            #print(f'Headline : {features_Headline.text}')\n",
    "            text : str = features_Headline.text\n",
    "            text = vehicle_type + \" \" + text.strip() + ': '\n",
    "        #identify the features\n",
    "        features = header.find_all('div', { 'class' : \"body-text__copy body-copy text-content content-2 width-l\"})\n",
    "        for feature in features:\n",
    "            #print(f'\\t\\t{ feature.text}')\n",
    "            text += feature.text.strip()\n",
    "        featureList.append(text)\n",
    "    return featureList\n",
    "featureList = parsePage2(source, \"iX xDrive50\")"
   ]
  },
  {
   "cell_type": "code",
   "execution_count": 256,
   "id": "ebe835ef",
   "metadata": {},
   "outputs": [
    {
     "data": {
      "text/plain": [
       "17"
      ]
     },
     "execution_count": 256,
     "metadata": {},
     "output_type": "execute_result"
    }
   ],
   "source": [
    "len(featureList)"
   ]
  },
  {
   "cell_type": "code",
   "execution_count": 257,
   "id": "207bb3d9",
   "metadata": {},
   "outputs": [
    {
     "data": {
      "text/html": [
       "<div>\n",
       "<style scoped>\n",
       "    .dataframe tbody tr th:only-of-type {\n",
       "        vertical-align: middle;\n",
       "    }\n",
       "\n",
       "    .dataframe tbody tr th {\n",
       "        vertical-align: top;\n",
       "    }\n",
       "\n",
       "    .dataframe thead th {\n",
       "        text-align: right;\n",
       "    }\n",
       "</style>\n",
       "<table border=\"1\" class=\"dataframe\">\n",
       "  <thead>\n",
       "    <tr style=\"text-align: right;\">\n",
       "      <th></th>\n",
       "      <th>text</th>\n",
       "    </tr>\n",
       "  </thead>\n",
       "  <tbody>\n",
       "    <tr>\n",
       "      <th>0</th>\n",
       "      <td>iX xDrive50 Performance and Efficiency: Dual a...</td>\n",
       "    </tr>\n",
       "    <tr>\n",
       "      <th>1</th>\n",
       "      <td>iX xDrive50 Handling, Ride and Braking: xDrive...</td>\n",
       "    </tr>\n",
       "    <tr>\n",
       "      <th>2</th>\n",
       "      <td>iX xDrive50 Exterior: Aluminum Spaceframe with...</td>\n",
       "    </tr>\n",
       "    <tr>\n",
       "      <th>3</th>\n",
       "      <td>iX xDrive50 Interior Trim: Perforated Sensatec...</td>\n",
       "    </tr>\n",
       "    <tr>\n",
       "      <th>4</th>\n",
       "      <td>iX xDrive50 Connectivity: Connected Package Pr...</td>\n",
       "    </tr>\n",
       "    <tr>\n",
       "      <th>5</th>\n",
       "      <td>iX xDrive50 Audio System: SiriusXM® with 360L ...</td>\n",
       "    </tr>\n",
       "    <tr>\n",
       "      <th>6</th>\n",
       "      <td>iX xDrive50 Instrumentation and Controls: Mult...</td>\n",
       "    </tr>\n",
       "    <tr>\n",
       "      <th>7</th>\n",
       "      <td>iX xDrive50 Comfort and Convenience: Parking A...</td>\n",
       "    </tr>\n",
       "    <tr>\n",
       "      <th>8</th>\n",
       "      <td>iX xDrive50 Safety and Security: Mobility kitA...</td>\n",
       "    </tr>\n",
       "    <tr>\n",
       "      <th>9</th>\n",
       "      <td>iX xDrive50 Warranty: BMW Ultimate Care (for c...</td>\n",
       "    </tr>\n",
       "    <tr>\n",
       "      <th>10</th>\n",
       "      <td>iX xDrive50 Warranty: BMW Ultimate Care (for c...</td>\n",
       "    </tr>\n",
       "    <tr>\n",
       "      <th>11</th>\n",
       "      <td>iX xDrive50 Warranty: BMW Ultimate Care (for c...</td>\n",
       "    </tr>\n",
       "    <tr>\n",
       "      <th>12</th>\n",
       "      <td>iX xDrive50 Warranty: BMW Ultimate Care (for c...</td>\n",
       "    </tr>\n",
       "    <tr>\n",
       "      <th>13</th>\n",
       "      <td>iX xDrive50 Warranty: BMW Ultimate Care (for c...</td>\n",
       "    </tr>\n",
       "    <tr>\n",
       "      <th>14</th>\n",
       "      <td>iX xDrive50 Warranty: BMW Ultimate Care (for c...</td>\n",
       "    </tr>\n",
       "    <tr>\n",
       "      <th>15</th>\n",
       "      <td>iX xDrive50 Warranty: BMW Ultimate Care (for c...</td>\n",
       "    </tr>\n",
       "    <tr>\n",
       "      <th>16</th>\n",
       "      <td>iX xDrive50 Warranty: BMW Ultimate Care (for c...</td>\n",
       "    </tr>\n",
       "  </tbody>\n",
       "</table>\n",
       "</div>"
      ],
      "text/plain": [
       "                                                 text\n",
       "0   iX xDrive50 Performance and Efficiency: Dual a...\n",
       "1   iX xDrive50 Handling, Ride and Braking: xDrive...\n",
       "2   iX xDrive50 Exterior: Aluminum Spaceframe with...\n",
       "3   iX xDrive50 Interior Trim: Perforated Sensatec...\n",
       "4   iX xDrive50 Connectivity: Connected Package Pr...\n",
       "5   iX xDrive50 Audio System: SiriusXM® with 360L ...\n",
       "6   iX xDrive50 Instrumentation and Controls: Mult...\n",
       "7   iX xDrive50 Comfort and Convenience: Parking A...\n",
       "8   iX xDrive50 Safety and Security: Mobility kitA...\n",
       "9   iX xDrive50 Warranty: BMW Ultimate Care (for c...\n",
       "10  iX xDrive50 Warranty: BMW Ultimate Care (for c...\n",
       "11  iX xDrive50 Warranty: BMW Ultimate Care (for c...\n",
       "12  iX xDrive50 Warranty: BMW Ultimate Care (for c...\n",
       "13  iX xDrive50 Warranty: BMW Ultimate Care (for c...\n",
       "14  iX xDrive50 Warranty: BMW Ultimate Care (for c...\n",
       "15  iX xDrive50 Warranty: BMW Ultimate Care (for c...\n",
       "16  iX xDrive50 Warranty: BMW Ultimate Care (for c..."
      ]
     },
     "execution_count": 257,
     "metadata": {},
     "output_type": "execute_result"
    }
   ],
   "source": [
    "import pandas as pd\n",
    "df = pd.DataFrame(featureList, columns=['text'])\n",
    "df"
   ]
  },
  {
   "cell_type": "code",
   "execution_count": 258,
   "id": "f5476910",
   "metadata": {},
   "outputs": [],
   "source": [
    "featureList = parsePage2(source2, \"iX M60 SUV\")\n",
    "df_all = pd.concat([df, pd.DataFrame(featureList, columns=['text'])], ignore_index=True)\n",
    "featureList = parsePage2(source3, \"i5 M60 All-Electric Sedan\")\n",
    "df_all = pd.concat([df_all, pd.DataFrame(featureList, columns=['text'])], ignore_index=True)\n",
    "df_all.to_csv(path + 'bmw_webcontent.csv')\n"
   ]
  },
  {
   "cell_type": "code",
   "execution_count": null,
   "id": "1c280341",
   "metadata": {},
   "outputs": [],
   "source": []
  },
  {
   "cell_type": "markdown",
   "id": "a63d4c5f",
   "metadata": {},
   "source": [
    "## Data Wrangling\n",
    "\n",
    "TODO: In the cells below, load your chosen dataset into a `pandas` dataframe with a column named `\"text\"`. This column should contain all of your text data, separated into at least 20 rows."
   ]
  },
  {
   "cell_type": "code",
   "execution_count": 259,
   "id": "3ed43532",
   "metadata": {},
   "outputs": [
    {
     "data": {
      "text/html": [
       "<div>\n",
       "<style scoped>\n",
       "    .dataframe tbody tr th:only-of-type {\n",
       "        vertical-align: middle;\n",
       "    }\n",
       "\n",
       "    .dataframe tbody tr th {\n",
       "        vertical-align: top;\n",
       "    }\n",
       "\n",
       "    .dataframe thead th {\n",
       "        text-align: right;\n",
       "    }\n",
       "</style>\n",
       "<table border=\"1\" class=\"dataframe\">\n",
       "  <thead>\n",
       "    <tr style=\"text-align: right;\">\n",
       "      <th></th>\n",
       "      <th>Unnamed: 0</th>\n",
       "      <th>text</th>\n",
       "    </tr>\n",
       "  </thead>\n",
       "  <tbody>\n",
       "    <tr>\n",
       "      <th>38</th>\n",
       "      <td>38</td>\n",
       "      <td>i5 M60 All-Electric Sedan Connectivity: Enhanc...</td>\n",
       "    </tr>\n",
       "    <tr>\n",
       "      <th>23</th>\n",
       "      <td>23</td>\n",
       "      <td>iX M60 SUV Instrumentation and Controls: Multi...</td>\n",
       "    </tr>\n",
       "    <tr>\n",
       "      <th>1</th>\n",
       "      <td>1</td>\n",
       "      <td>iX xDrive50 Handling, Ride and Braking: xDrive...</td>\n",
       "    </tr>\n",
       "    <tr>\n",
       "      <th>6</th>\n",
       "      <td>6</td>\n",
       "      <td>iX xDrive50 Instrumentation and Controls: Mult...</td>\n",
       "    </tr>\n",
       "    <tr>\n",
       "      <th>42</th>\n",
       "      <td>42</td>\n",
       "      <td>i5 M60 All-Electric Sedan Safety and Security:...</td>\n",
       "    </tr>\n",
       "  </tbody>\n",
       "</table>\n",
       "</div>"
      ],
      "text/plain": [
       "    Unnamed: 0                                               text\n",
       "38          38  i5 M60 All-Electric Sedan Connectivity: Enhanc...\n",
       "23          23  iX M60 SUV Instrumentation and Controls: Multi...\n",
       "1            1  iX xDrive50 Handling, Ride and Braking: xDrive...\n",
       "6            6  iX xDrive50 Instrumentation and Controls: Mult...\n",
       "42          42  i5 M60 All-Electric Sedan Safety and Security:..."
      ]
     },
     "execution_count": 259,
     "metadata": {},
     "output_type": "execute_result"
    }
   ],
   "source": [
    "import pandas as pd\n",
    "\n",
    "df = pd.read_csv(path + 'bmw_webcontent.csv')\n",
    "df.sample(5)"
   ]
  },
  {
   "cell_type": "code",
   "execution_count": 242,
   "id": "c6f69f2a",
   "metadata": {},
   "outputs": [],
   "source": [
    "#Check for duplicates\n",
    "df = df[df.duplicated(['text'], keep='first')]"
   ]
  },
  {
   "cell_type": "code",
   "execution_count": 247,
   "id": "c14be754",
   "metadata": {},
   "outputs": [
    {
     "data": {
      "text/html": [
       "<div>\n",
       "<style scoped>\n",
       "    .dataframe tbody tr th:only-of-type {\n",
       "        vertical-align: middle;\n",
       "    }\n",
       "\n",
       "    .dataframe tbody tr th {\n",
       "        vertical-align: top;\n",
       "    }\n",
       "\n",
       "    .dataframe thead th {\n",
       "        text-align: right;\n",
       "    }\n",
       "</style>\n",
       "<table border=\"1\" class=\"dataframe\">\n",
       "  <thead>\n",
       "    <tr style=\"text-align: right;\">\n",
       "      <th></th>\n",
       "      <th>Unnamed: 0</th>\n",
       "      <th>text</th>\n",
       "    </tr>\n",
       "  </thead>\n",
       "  <tbody>\n",
       "    <tr>\n",
       "      <th>0</th>\n",
       "      <td>10</td>\n",
       "      <td>iX xDrive50 Warranty: BMW Ultimate Care (for c...</td>\n",
       "    </tr>\n",
       "    <tr>\n",
       "      <th>1</th>\n",
       "      <td>11</td>\n",
       "      <td>iX xDrive50 Warranty: BMW Ultimate Care (for c...</td>\n",
       "    </tr>\n",
       "    <tr>\n",
       "      <th>2</th>\n",
       "      <td>12</td>\n",
       "      <td>iX xDrive50 Warranty: BMW Ultimate Care (for c...</td>\n",
       "    </tr>\n",
       "    <tr>\n",
       "      <th>3</th>\n",
       "      <td>13</td>\n",
       "      <td>iX xDrive50 Warranty: BMW Ultimate Care (for c...</td>\n",
       "    </tr>\n",
       "    <tr>\n",
       "      <th>4</th>\n",
       "      <td>14</td>\n",
       "      <td>iX xDrive50 Warranty: BMW Ultimate Care (for c...</td>\n",
       "    </tr>\n",
       "    <tr>\n",
       "      <th>5</th>\n",
       "      <td>15</td>\n",
       "      <td>iX xDrive50 Warranty: BMW Ultimate Care (for c...</td>\n",
       "    </tr>\n",
       "    <tr>\n",
       "      <th>6</th>\n",
       "      <td>16</td>\n",
       "      <td>iX xDrive50 Warranty: BMW Ultimate Care (for c...</td>\n",
       "    </tr>\n",
       "    <tr>\n",
       "      <th>7</th>\n",
       "      <td>27</td>\n",
       "      <td>iX M60 SUV Warranty: BMW Ultimate Care (for co...</td>\n",
       "    </tr>\n",
       "    <tr>\n",
       "      <th>8</th>\n",
       "      <td>28</td>\n",
       "      <td>iX M60 SUV Warranty: BMW Ultimate Care (for co...</td>\n",
       "    </tr>\n",
       "    <tr>\n",
       "      <th>9</th>\n",
       "      <td>29</td>\n",
       "      <td>iX M60 SUV Warranty: BMW Ultimate Care (for co...</td>\n",
       "    </tr>\n",
       "    <tr>\n",
       "      <th>10</th>\n",
       "      <td>30</td>\n",
       "      <td>iX M60 SUV Warranty: BMW Ultimate Care (for co...</td>\n",
       "    </tr>\n",
       "    <tr>\n",
       "      <th>11</th>\n",
       "      <td>31</td>\n",
       "      <td>iX M60 SUV Warranty: BMW Ultimate Care (for co...</td>\n",
       "    </tr>\n",
       "    <tr>\n",
       "      <th>12</th>\n",
       "      <td>32</td>\n",
       "      <td>iX M60 SUV Warranty: BMW Ultimate Care (for co...</td>\n",
       "    </tr>\n",
       "    <tr>\n",
       "      <th>13</th>\n",
       "      <td>33</td>\n",
       "      <td>iX M60 SUV Warranty: BMW Ultimate Care (for co...</td>\n",
       "    </tr>\n",
       "    <tr>\n",
       "      <th>14</th>\n",
       "      <td>44</td>\n",
       "      <td>i5 M60 All-Electric Sedan Warranty: BMW Ultima...</td>\n",
       "    </tr>\n",
       "    <tr>\n",
       "      <th>15</th>\n",
       "      <td>45</td>\n",
       "      <td>i5 M60 All-Electric Sedan Warranty: BMW Ultima...</td>\n",
       "    </tr>\n",
       "    <tr>\n",
       "      <th>16</th>\n",
       "      <td>46</td>\n",
       "      <td>i5 M60 All-Electric Sedan Warranty: BMW Ultima...</td>\n",
       "    </tr>\n",
       "    <tr>\n",
       "      <th>17</th>\n",
       "      <td>47</td>\n",
       "      <td>i5 M60 All-Electric Sedan Warranty: BMW Ultima...</td>\n",
       "    </tr>\n",
       "    <tr>\n",
       "      <th>18</th>\n",
       "      <td>48</td>\n",
       "      <td>i5 M60 All-Electric Sedan Warranty: BMW Ultima...</td>\n",
       "    </tr>\n",
       "    <tr>\n",
       "      <th>19</th>\n",
       "      <td>49</td>\n",
       "      <td>i5 M60 All-Electric Sedan Warranty: BMW Ultima...</td>\n",
       "    </tr>\n",
       "    <tr>\n",
       "      <th>20</th>\n",
       "      <td>50</td>\n",
       "      <td>i5 M60 All-Electric Sedan Warranty: BMW Ultima...</td>\n",
       "    </tr>\n",
       "  </tbody>\n",
       "</table>\n",
       "</div>"
      ],
      "text/plain": [
       "    Unnamed: 0                                               text\n",
       "0           10  iX xDrive50 Warranty: BMW Ultimate Care (for c...\n",
       "1           11  iX xDrive50 Warranty: BMW Ultimate Care (for c...\n",
       "2           12  iX xDrive50 Warranty: BMW Ultimate Care (for c...\n",
       "3           13  iX xDrive50 Warranty: BMW Ultimate Care (for c...\n",
       "4           14  iX xDrive50 Warranty: BMW Ultimate Care (for c...\n",
       "5           15  iX xDrive50 Warranty: BMW Ultimate Care (for c...\n",
       "6           16  iX xDrive50 Warranty: BMW Ultimate Care (for c...\n",
       "7           27  iX M60 SUV Warranty: BMW Ultimate Care (for co...\n",
       "8           28  iX M60 SUV Warranty: BMW Ultimate Care (for co...\n",
       "9           29  iX M60 SUV Warranty: BMW Ultimate Care (for co...\n",
       "10          30  iX M60 SUV Warranty: BMW Ultimate Care (for co...\n",
       "11          31  iX M60 SUV Warranty: BMW Ultimate Care (for co...\n",
       "12          32  iX M60 SUV Warranty: BMW Ultimate Care (for co...\n",
       "13          33  iX M60 SUV Warranty: BMW Ultimate Care (for co...\n",
       "14          44  i5 M60 All-Electric Sedan Warranty: BMW Ultima...\n",
       "15          45  i5 M60 All-Electric Sedan Warranty: BMW Ultima...\n",
       "16          46  i5 M60 All-Electric Sedan Warranty: BMW Ultima...\n",
       "17          47  i5 M60 All-Electric Sedan Warranty: BMW Ultima...\n",
       "18          48  i5 M60 All-Electric Sedan Warranty: BMW Ultima...\n",
       "19          49  i5 M60 All-Electric Sedan Warranty: BMW Ultima...\n",
       "20          50  i5 M60 All-Electric Sedan Warranty: BMW Ultima..."
      ]
     },
     "execution_count": 247,
     "metadata": {},
     "output_type": "execute_result"
    }
   ],
   "source": [
    "df.reset_index(drop=True, )"
   ]
  },
  {
   "cell_type": "code",
   "execution_count": null,
   "id": "c69b83a1",
   "metadata": {},
   "outputs": [],
   "source": [
    "\n"
   ]
  },
  {
   "cell_type": "code",
   "execution_count": 2,
   "id": "0a595980",
   "metadata": {},
   "outputs": [],
   "source": []
  },
  {
   "cell_type": "code",
   "execution_count": null,
   "id": "acb3a9fd",
   "metadata": {},
   "outputs": [],
   "source": []
  },
  {
   "cell_type": "markdown",
   "id": "ae769871",
   "metadata": {},
   "source": [
    "## Custom Query Completion\n",
    "\n",
    "TODO: In the cells below, compose a custom query using your chosen dataset and retrieve results from an OpenAI `Completion` model. You may copy and paste any useful code from the course materials."
   ]
  },
  {
   "cell_type": "code",
   "execution_count": null,
   "id": "582f0656",
   "metadata": {},
   "outputs": [],
   "source": []
  },
  {
   "cell_type": "code",
   "execution_count": null,
   "id": "8b6e1f75",
   "metadata": {},
   "outputs": [],
   "source": []
  },
  {
   "cell_type": "code",
   "execution_count": null,
   "id": "13f2dcd7",
   "metadata": {},
   "outputs": [],
   "source": []
  },
  {
   "cell_type": "code",
   "execution_count": null,
   "id": "c403f543",
   "metadata": {},
   "outputs": [],
   "source": []
  },
  {
   "cell_type": "code",
   "execution_count": null,
   "id": "74280b92",
   "metadata": {},
   "outputs": [],
   "source": []
  },
  {
   "cell_type": "markdown",
   "id": "1783f146",
   "metadata": {},
   "source": [
    "## Custom Performance Demonstration\n",
    "\n",
    "TODO: In the cells below, demonstrate the performance of your custom query using at least 2 questions. For each question, show the answer from a basic `Completion` model query as well as the answer from your custom query."
   ]
  },
  {
   "cell_type": "markdown",
   "id": "4f11fdc0",
   "metadata": {},
   "source": [
    "### Question 1"
   ]
  },
  {
   "cell_type": "code",
   "execution_count": null,
   "id": "4901c850",
   "metadata": {},
   "outputs": [],
   "source": []
  },
  {
   "cell_type": "code",
   "execution_count": null,
   "id": "bd7a093b",
   "metadata": {},
   "outputs": [],
   "source": []
  },
  {
   "cell_type": "markdown",
   "id": "6e86e37c",
   "metadata": {},
   "source": [
    "### Question 2"
   ]
  },
  {
   "cell_type": "code",
   "execution_count": null,
   "id": "6f646989",
   "metadata": {},
   "outputs": [],
   "source": []
  },
  {
   "cell_type": "code",
   "execution_count": null,
   "id": "11c07a54",
   "metadata": {},
   "outputs": [],
   "source": []
  }
 ],
 "metadata": {
  "kernelspec": {
   "display_name": "Python 3 (ipykernel)",
   "language": "python",
   "name": "python3"
  },
  "language_info": {
   "codemirror_mode": {
    "name": "ipython",
    "version": 3
   },
   "file_extension": ".py",
   "mimetype": "text/x-python",
   "name": "python",
   "nbconvert_exporter": "python",
   "pygments_lexer": "ipython3",
   "version": "3.11.8"
  }
 },
 "nbformat": 4,
 "nbformat_minor": 5
}
